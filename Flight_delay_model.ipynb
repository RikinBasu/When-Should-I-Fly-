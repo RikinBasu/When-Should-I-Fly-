{
 "cells": [
  {
   "cell_type": "code",
   "execution_count": 1,
   "id": "8ecf21d4",
   "metadata": {},
   "outputs": [],
   "source": [
    "import pandas as pd\n",
    "import numpy as np\n",
    "\n",
    "import openpyxl\n",
    "\n",
    "import matplotlib.pyplot as plt\n",
    "import seaborn as sns\n",
    "import plotly.express as px\n",
    "from scipy.stats import skew"
   ]
  },
  {
   "cell_type": "code",
   "execution_count": 2,
   "id": "8f5ad5c5",
   "metadata": {},
   "outputs": [],
   "source": [
    "#df = pd.read_csv('C:/penn_State/Pred analytics/Assignment/flights.csv')\n",
    "df = pd.read_csv('C:/penn_State/Pred analytics/Assignment/FlightDelays1.csv')"
   ]
  },
  {
   "cell_type": "code",
   "execution_count": 3,
   "id": "7028adab",
   "metadata": {},
   "outputs": [
    {
     "data": {
      "text/html": [
       "<div>\n",
       "<style scoped>\n",
       "    .dataframe tbody tr th:only-of-type {\n",
       "        vertical-align: middle;\n",
       "    }\n",
       "\n",
       "    .dataframe tbody tr th {\n",
       "        vertical-align: top;\n",
       "    }\n",
       "\n",
       "    .dataframe thead th {\n",
       "        text-align: right;\n",
       "    }\n",
       "</style>\n",
       "<table border=\"1\" class=\"dataframe\">\n",
       "  <thead>\n",
       "    <tr style=\"text-align: right;\">\n",
       "      <th></th>\n",
       "      <th>schedtime</th>\n",
       "      <th>carrier</th>\n",
       "      <th>deptime</th>\n",
       "      <th>dest</th>\n",
       "      <th>distance</th>\n",
       "      <th>date</th>\n",
       "      <th>flightnumber</th>\n",
       "      <th>origin</th>\n",
       "      <th>weather</th>\n",
       "      <th>dayweek</th>\n",
       "      <th>daymonth</th>\n",
       "      <th>tailnu</th>\n",
       "      <th>delay</th>\n",
       "    </tr>\n",
       "  </thead>\n",
       "  <tbody>\n",
       "    <tr>\n",
       "      <th>0</th>\n",
       "      <td>1455</td>\n",
       "      <td>OH</td>\n",
       "      <td>1455</td>\n",
       "      <td>JFK</td>\n",
       "      <td>184</td>\n",
       "      <td>1/1/2004</td>\n",
       "      <td>5935</td>\n",
       "      <td>BWI</td>\n",
       "      <td>0</td>\n",
       "      <td>4</td>\n",
       "      <td>1</td>\n",
       "      <td>N940CA</td>\n",
       "      <td>ontime</td>\n",
       "    </tr>\n",
       "    <tr>\n",
       "      <th>1</th>\n",
       "      <td>1640</td>\n",
       "      <td>DH</td>\n",
       "      <td>1640</td>\n",
       "      <td>JFK</td>\n",
       "      <td>213</td>\n",
       "      <td>1/1/2004</td>\n",
       "      <td>6155</td>\n",
       "      <td>DCA</td>\n",
       "      <td>0</td>\n",
       "      <td>4</td>\n",
       "      <td>1</td>\n",
       "      <td>N405FJ</td>\n",
       "      <td>ontime</td>\n",
       "    </tr>\n",
       "    <tr>\n",
       "      <th>2</th>\n",
       "      <td>1245</td>\n",
       "      <td>DH</td>\n",
       "      <td>1245</td>\n",
       "      <td>LGA</td>\n",
       "      <td>229</td>\n",
       "      <td>1/1/2004</td>\n",
       "      <td>7208</td>\n",
       "      <td>IAD</td>\n",
       "      <td>0</td>\n",
       "      <td>4</td>\n",
       "      <td>1</td>\n",
       "      <td>N695BR</td>\n",
       "      <td>ontime</td>\n",
       "    </tr>\n",
       "    <tr>\n",
       "      <th>3</th>\n",
       "      <td>1715</td>\n",
       "      <td>DH</td>\n",
       "      <td>1709</td>\n",
       "      <td>LGA</td>\n",
       "      <td>229</td>\n",
       "      <td>1/1/2004</td>\n",
       "      <td>7215</td>\n",
       "      <td>IAD</td>\n",
       "      <td>0</td>\n",
       "      <td>4</td>\n",
       "      <td>1</td>\n",
       "      <td>N662BR</td>\n",
       "      <td>ontime</td>\n",
       "    </tr>\n",
       "    <tr>\n",
       "      <th>4</th>\n",
       "      <td>1039</td>\n",
       "      <td>DH</td>\n",
       "      <td>1035</td>\n",
       "      <td>LGA</td>\n",
       "      <td>229</td>\n",
       "      <td>1/1/2004</td>\n",
       "      <td>7792</td>\n",
       "      <td>IAD</td>\n",
       "      <td>0</td>\n",
       "      <td>4</td>\n",
       "      <td>1</td>\n",
       "      <td>N698BR</td>\n",
       "      <td>ontime</td>\n",
       "    </tr>\n",
       "    <tr>\n",
       "      <th>5</th>\n",
       "      <td>840</td>\n",
       "      <td>DH</td>\n",
       "      <td>839</td>\n",
       "      <td>JFK</td>\n",
       "      <td>228</td>\n",
       "      <td>1/1/2004</td>\n",
       "      <td>7800</td>\n",
       "      <td>IAD</td>\n",
       "      <td>0</td>\n",
       "      <td>4</td>\n",
       "      <td>1</td>\n",
       "      <td>N687BR</td>\n",
       "      <td>ontime</td>\n",
       "    </tr>\n",
       "    <tr>\n",
       "      <th>6</th>\n",
       "      <td>1240</td>\n",
       "      <td>DH</td>\n",
       "      <td>1243</td>\n",
       "      <td>JFK</td>\n",
       "      <td>228</td>\n",
       "      <td>1/1/2004</td>\n",
       "      <td>7806</td>\n",
       "      <td>IAD</td>\n",
       "      <td>0</td>\n",
       "      <td>4</td>\n",
       "      <td>1</td>\n",
       "      <td>N321UE</td>\n",
       "      <td>ontime</td>\n",
       "    </tr>\n",
       "    <tr>\n",
       "      <th>7</th>\n",
       "      <td>1645</td>\n",
       "      <td>DH</td>\n",
       "      <td>1644</td>\n",
       "      <td>JFK</td>\n",
       "      <td>228</td>\n",
       "      <td>1/1/2004</td>\n",
       "      <td>7810</td>\n",
       "      <td>IAD</td>\n",
       "      <td>0</td>\n",
       "      <td>4</td>\n",
       "      <td>1</td>\n",
       "      <td>N301UE</td>\n",
       "      <td>ontime</td>\n",
       "    </tr>\n",
       "    <tr>\n",
       "      <th>8</th>\n",
       "      <td>1715</td>\n",
       "      <td>DH</td>\n",
       "      <td>1710</td>\n",
       "      <td>JFK</td>\n",
       "      <td>228</td>\n",
       "      <td>1/1/2004</td>\n",
       "      <td>7812</td>\n",
       "      <td>IAD</td>\n",
       "      <td>0</td>\n",
       "      <td>4</td>\n",
       "      <td>1</td>\n",
       "      <td>N328UE</td>\n",
       "      <td>ontime</td>\n",
       "    </tr>\n",
       "    <tr>\n",
       "      <th>9</th>\n",
       "      <td>2120</td>\n",
       "      <td>DH</td>\n",
       "      <td>2129</td>\n",
       "      <td>JFK</td>\n",
       "      <td>228</td>\n",
       "      <td>1/1/2004</td>\n",
       "      <td>7814</td>\n",
       "      <td>IAD</td>\n",
       "      <td>0</td>\n",
       "      <td>4</td>\n",
       "      <td>1</td>\n",
       "      <td>N685BR</td>\n",
       "      <td>ontime</td>\n",
       "    </tr>\n",
       "  </tbody>\n",
       "</table>\n",
       "</div>"
      ],
      "text/plain": [
       "   schedtime carrier  deptime dest  distance      date  flightnumber origin  \\\n",
       "0       1455      OH     1455  JFK       184  1/1/2004          5935    BWI   \n",
       "1       1640      DH     1640  JFK       213  1/1/2004          6155    DCA   \n",
       "2       1245      DH     1245  LGA       229  1/1/2004          7208    IAD   \n",
       "3       1715      DH     1709  LGA       229  1/1/2004          7215    IAD   \n",
       "4       1039      DH     1035  LGA       229  1/1/2004          7792    IAD   \n",
       "5        840      DH      839  JFK       228  1/1/2004          7800    IAD   \n",
       "6       1240      DH     1243  JFK       228  1/1/2004          7806    IAD   \n",
       "7       1645      DH     1644  JFK       228  1/1/2004          7810    IAD   \n",
       "8       1715      DH     1710  JFK       228  1/1/2004          7812    IAD   \n",
       "9       2120      DH     2129  JFK       228  1/1/2004          7814    IAD   \n",
       "\n",
       "   weather  dayweek  daymonth  tailnu   delay  \n",
       "0        0        4         1  N940CA  ontime  \n",
       "1        0        4         1  N405FJ  ontime  \n",
       "2        0        4         1  N695BR  ontime  \n",
       "3        0        4         1  N662BR  ontime  \n",
       "4        0        4         1  N698BR  ontime  \n",
       "5        0        4         1  N687BR  ontime  \n",
       "6        0        4         1  N321UE  ontime  \n",
       "7        0        4         1  N301UE  ontime  \n",
       "8        0        4         1  N328UE  ontime  \n",
       "9        0        4         1  N685BR  ontime  "
      ]
     },
     "execution_count": 3,
     "metadata": {},
     "output_type": "execute_result"
    }
   ],
   "source": [
    "df.head(10)"
   ]
  },
  {
   "cell_type": "code",
   "execution_count": 59,
   "id": "d36fa2f1",
   "metadata": {},
   "outputs": [
    {
     "data": {
      "text/plain": [
       "array([4, 5, 6, 7, 1, 2, 3], dtype=int64)"
      ]
     },
     "execution_count": 59,
     "metadata": {},
     "output_type": "execute_result"
    }
   ],
   "source": [
    "df.dayweek.unique()"
   ]
  },
  {
   "cell_type": "code",
   "execution_count": 5,
   "id": "8f4c5178",
   "metadata": {},
   "outputs": [
    {
     "data": {
      "text/plain": [
       "schedtime       0\n",
       "carrier         0\n",
       "deptime         0\n",
       "dest            0\n",
       "distance        0\n",
       "date            0\n",
       "flightnumber    0\n",
       "origin          0\n",
       "weather         0\n",
       "dayweek         0\n",
       "daymonth        0\n",
       "tailnu          0\n",
       "delay           0\n",
       "dtype: int64"
      ]
     },
     "execution_count": 5,
     "metadata": {},
     "output_type": "execute_result"
    }
   ],
   "source": [
    "df.isnull().sum()"
   ]
  },
  {
   "cell_type": "code",
   "execution_count": 6,
   "id": "0ebd3049",
   "metadata": {},
   "outputs": [],
   "source": [
    "#df = df.drop(['WEATHER_DELAY', 'LATE_AIRCRAFT_DELAY','AIRLINE_DELAY','SECURITY_DELAY','AIR_SYSTEM_DELAY','CANCELLATION_REASON'], axis=1)"
   ]
  },
  {
   "cell_type": "code",
   "execution_count": 7,
   "id": "8771c70e",
   "metadata": {},
   "outputs": [],
   "source": [
    "#df.isnull().sum()"
   ]
  },
  {
   "cell_type": "code",
   "execution_count": 8,
   "id": "081517b2",
   "metadata": {},
   "outputs": [],
   "source": [
    "#df = df.dropna()"
   ]
  },
  {
   "cell_type": "code",
   "execution_count": 9,
   "id": "75569d9f",
   "metadata": {},
   "outputs": [],
   "source": [
    "#df.isnull().sum()"
   ]
  },
  {
   "cell_type": "code",
   "execution_count": 10,
   "id": "38a0e4e7",
   "metadata": {},
   "outputs": [
    {
     "data": {
      "text/plain": [
       "schedtime       2201\n",
       "carrier         2201\n",
       "deptime         2201\n",
       "dest            2201\n",
       "distance        2201\n",
       "date            2201\n",
       "flightnumber    2201\n",
       "origin          2201\n",
       "weather         2201\n",
       "dayweek         2201\n",
       "daymonth        2201\n",
       "tailnu          2201\n",
       "delay           2201\n",
       "dtype: int64"
      ]
     },
     "execution_count": 10,
     "metadata": {},
     "output_type": "execute_result"
    }
   ],
   "source": [
    "df.count()"
   ]
  },
  {
   "cell_type": "code",
   "execution_count": 11,
   "id": "06994e25",
   "metadata": {},
   "outputs": [
    {
     "data": {
      "text/html": [
       "<div>\n",
       "<style scoped>\n",
       "    .dataframe tbody tr th:only-of-type {\n",
       "        vertical-align: middle;\n",
       "    }\n",
       "\n",
       "    .dataframe tbody tr th {\n",
       "        vertical-align: top;\n",
       "    }\n",
       "\n",
       "    .dataframe thead th {\n",
       "        text-align: right;\n",
       "    }\n",
       "</style>\n",
       "<table border=\"1\" class=\"dataframe\">\n",
       "  <thead>\n",
       "    <tr style=\"text-align: right;\">\n",
       "      <th></th>\n",
       "      <th>schedtime</th>\n",
       "      <th>deptime</th>\n",
       "      <th>distance</th>\n",
       "      <th>flightnumber</th>\n",
       "      <th>weather</th>\n",
       "      <th>dayweek</th>\n",
       "      <th>daymonth</th>\n",
       "    </tr>\n",
       "  </thead>\n",
       "  <tbody>\n",
       "    <tr>\n",
       "      <th>count</th>\n",
       "      <td>2201.000000</td>\n",
       "      <td>2201.000000</td>\n",
       "      <td>2201.000000</td>\n",
       "      <td>2201.000000</td>\n",
       "      <td>2201.000000</td>\n",
       "      <td>2201.000000</td>\n",
       "      <td>2201.000000</td>\n",
       "    </tr>\n",
       "    <tr>\n",
       "      <th>mean</th>\n",
       "      <td>1371.938664</td>\n",
       "      <td>1369.298955</td>\n",
       "      <td>211.871422</td>\n",
       "      <td>3815.086324</td>\n",
       "      <td>0.014539</td>\n",
       "      <td>3.905498</td>\n",
       "      <td>16.024989</td>\n",
       "    </tr>\n",
       "    <tr>\n",
       "      <th>std</th>\n",
       "      <td>432.697149</td>\n",
       "      <td>442.462754</td>\n",
       "      <td>13.316815</td>\n",
       "      <td>2409.750224</td>\n",
       "      <td>0.119725</td>\n",
       "      <td>1.903149</td>\n",
       "      <td>8.677390</td>\n",
       "    </tr>\n",
       "    <tr>\n",
       "      <th>min</th>\n",
       "      <td>600.000000</td>\n",
       "      <td>10.000000</td>\n",
       "      <td>169.000000</td>\n",
       "      <td>746.000000</td>\n",
       "      <td>0.000000</td>\n",
       "      <td>1.000000</td>\n",
       "      <td>1.000000</td>\n",
       "    </tr>\n",
       "    <tr>\n",
       "      <th>25%</th>\n",
       "      <td>1000.000000</td>\n",
       "      <td>1004.000000</td>\n",
       "      <td>213.000000</td>\n",
       "      <td>2156.000000</td>\n",
       "      <td>0.000000</td>\n",
       "      <td>2.000000</td>\n",
       "      <td>8.000000</td>\n",
       "    </tr>\n",
       "    <tr>\n",
       "      <th>50%</th>\n",
       "      <td>1455.000000</td>\n",
       "      <td>1450.000000</td>\n",
       "      <td>214.000000</td>\n",
       "      <td>2385.000000</td>\n",
       "      <td>0.000000</td>\n",
       "      <td>4.000000</td>\n",
       "      <td>16.000000</td>\n",
       "    </tr>\n",
       "    <tr>\n",
       "      <th>75%</th>\n",
       "      <td>1710.000000</td>\n",
       "      <td>1709.000000</td>\n",
       "      <td>214.000000</td>\n",
       "      <td>6155.000000</td>\n",
       "      <td>0.000000</td>\n",
       "      <td>5.000000</td>\n",
       "      <td>23.000000</td>\n",
       "    </tr>\n",
       "    <tr>\n",
       "      <th>max</th>\n",
       "      <td>2130.000000</td>\n",
       "      <td>2330.000000</td>\n",
       "      <td>229.000000</td>\n",
       "      <td>7924.000000</td>\n",
       "      <td>1.000000</td>\n",
       "      <td>7.000000</td>\n",
       "      <td>31.000000</td>\n",
       "    </tr>\n",
       "  </tbody>\n",
       "</table>\n",
       "</div>"
      ],
      "text/plain": [
       "         schedtime      deptime     distance  flightnumber      weather  \\\n",
       "count  2201.000000  2201.000000  2201.000000   2201.000000  2201.000000   \n",
       "mean   1371.938664  1369.298955   211.871422   3815.086324     0.014539   \n",
       "std     432.697149   442.462754    13.316815   2409.750224     0.119725   \n",
       "min     600.000000    10.000000   169.000000    746.000000     0.000000   \n",
       "25%    1000.000000  1004.000000   213.000000   2156.000000     0.000000   \n",
       "50%    1455.000000  1450.000000   214.000000   2385.000000     0.000000   \n",
       "75%    1710.000000  1709.000000   214.000000   6155.000000     0.000000   \n",
       "max    2130.000000  2330.000000   229.000000   7924.000000     1.000000   \n",
       "\n",
       "           dayweek     daymonth  \n",
       "count  2201.000000  2201.000000  \n",
       "mean      3.905498    16.024989  \n",
       "std       1.903149     8.677390  \n",
       "min       1.000000     1.000000  \n",
       "25%       2.000000     8.000000  \n",
       "50%       4.000000    16.000000  \n",
       "75%       5.000000    23.000000  \n",
       "max       7.000000    31.000000  "
      ]
     },
     "execution_count": 11,
     "metadata": {},
     "output_type": "execute_result"
    }
   ],
   "source": [
    "df.describe()"
   ]
  },
  {
   "cell_type": "code",
   "execution_count": 12,
   "id": "f8d06fdf",
   "metadata": {},
   "outputs": [
    {
     "name": "stderr",
     "output_type": "stream",
     "text": [
      "C:\\Users\\rikin\\AppData\\Local\\Temp\\ipykernel_12732\\3041846473.py:1: FutureWarning: The default value of numeric_only in DataFrame.skew is deprecated. In a future version, it will default to False. In addition, specifying 'numeric_only=None' is deprecated. Select only valid columns or specify the value of numeric_only to silence this warning.\n",
      "  df.skew(axis = 0, skipna = True)\n"
     ]
    },
    {
     "data": {
      "text/plain": [
       "schedtime      -0.137580\n",
       "deptime        -0.152045\n",
       "distance       -1.627681\n",
       "flightnumber    0.601224\n",
       "weather         8.117006\n",
       "dayweek         0.025803\n",
       "daymonth        0.034177\n",
       "dtype: float64"
      ]
     },
     "execution_count": 12,
     "metadata": {},
     "output_type": "execute_result"
    }
   ],
   "source": [
    "df.skew(axis = 0, skipna = True)\n"
   ]
  },
  {
   "cell_type": "code",
   "execution_count": 13,
   "id": "e54591e3",
   "metadata": {},
   "outputs": [],
   "source": [
    "# plot feature importance using built-in function\n",
    "from numpy import loadtxt\n",
    "from xgboost import XGBClassifier\n",
    "from xgboost import plot_importance\n",
    "from matplotlib import pyplot"
   ]
  },
  {
   "cell_type": "markdown",
   "id": "2a4be110",
   "metadata": {},
   "source": [
    "#split data into X and y\n",
    "X = df[['YEAR', 'MONTH', 'DAY', \n",
    "             'DAY_OF_WEEK', 'FLIGHT_NUMBER','AIRLINE','ORIGIN_AIRPORT','DESTINATION_AIRPORT','SCHEDULED_DEPARTURE', \n",
    "             'SCHEDULED_ARRIVAL']]\n",
    "y = df[['CANCELLED']]"
   ]
  },
  {
   "cell_type": "code",
   "execution_count": 14,
   "id": "2d6c565b",
   "metadata": {},
   "outputs": [],
   "source": [
    "# split data into X and y\n",
    "X = df[['schedtime', 'carrier', 'dest', \n",
    "              'flightnumber','origin','weather','dayweek', \n",
    "             'daymonth','tailnu']]\n",
    "y = df[['delay']]"
   ]
  },
  {
   "cell_type": "code",
   "execution_count": 15,
   "id": "337994e5",
   "metadata": {},
   "outputs": [
    {
     "data": {
      "text/html": [
       "<div>\n",
       "<style scoped>\n",
       "    .dataframe tbody tr th:only-of-type {\n",
       "        vertical-align: middle;\n",
       "    }\n",
       "\n",
       "    .dataframe tbody tr th {\n",
       "        vertical-align: top;\n",
       "    }\n",
       "\n",
       "    .dataframe thead th {\n",
       "        text-align: right;\n",
       "    }\n",
       "</style>\n",
       "<table border=\"1\" class=\"dataframe\">\n",
       "  <thead>\n",
       "    <tr style=\"text-align: right;\">\n",
       "      <th></th>\n",
       "      <th>schedtime</th>\n",
       "      <th>carrier</th>\n",
       "      <th>dest</th>\n",
       "      <th>flightnumber</th>\n",
       "      <th>origin</th>\n",
       "      <th>weather</th>\n",
       "      <th>dayweek</th>\n",
       "      <th>daymonth</th>\n",
       "      <th>tailnu</th>\n",
       "    </tr>\n",
       "  </thead>\n",
       "  <tbody>\n",
       "    <tr>\n",
       "      <th>0</th>\n",
       "      <td>1455</td>\n",
       "      <td>OH</td>\n",
       "      <td>JFK</td>\n",
       "      <td>5935</td>\n",
       "      <td>BWI</td>\n",
       "      <td>0</td>\n",
       "      <td>4</td>\n",
       "      <td>1</td>\n",
       "      <td>N940CA</td>\n",
       "    </tr>\n",
       "    <tr>\n",
       "      <th>1</th>\n",
       "      <td>1640</td>\n",
       "      <td>DH</td>\n",
       "      <td>JFK</td>\n",
       "      <td>6155</td>\n",
       "      <td>DCA</td>\n",
       "      <td>0</td>\n",
       "      <td>4</td>\n",
       "      <td>1</td>\n",
       "      <td>N405FJ</td>\n",
       "    </tr>\n",
       "    <tr>\n",
       "      <th>2</th>\n",
       "      <td>1245</td>\n",
       "      <td>DH</td>\n",
       "      <td>LGA</td>\n",
       "      <td>7208</td>\n",
       "      <td>IAD</td>\n",
       "      <td>0</td>\n",
       "      <td>4</td>\n",
       "      <td>1</td>\n",
       "      <td>N695BR</td>\n",
       "    </tr>\n",
       "    <tr>\n",
       "      <th>3</th>\n",
       "      <td>1715</td>\n",
       "      <td>DH</td>\n",
       "      <td>LGA</td>\n",
       "      <td>7215</td>\n",
       "      <td>IAD</td>\n",
       "      <td>0</td>\n",
       "      <td>4</td>\n",
       "      <td>1</td>\n",
       "      <td>N662BR</td>\n",
       "    </tr>\n",
       "    <tr>\n",
       "      <th>4</th>\n",
       "      <td>1039</td>\n",
       "      <td>DH</td>\n",
       "      <td>LGA</td>\n",
       "      <td>7792</td>\n",
       "      <td>IAD</td>\n",
       "      <td>0</td>\n",
       "      <td>4</td>\n",
       "      <td>1</td>\n",
       "      <td>N698BR</td>\n",
       "    </tr>\n",
       "    <tr>\n",
       "      <th>...</th>\n",
       "      <td>...</td>\n",
       "      <td>...</td>\n",
       "      <td>...</td>\n",
       "      <td>...</td>\n",
       "      <td>...</td>\n",
       "      <td>...</td>\n",
       "      <td>...</td>\n",
       "      <td>...</td>\n",
       "      <td>...</td>\n",
       "    </tr>\n",
       "    <tr>\n",
       "      <th>2196</th>\n",
       "      <td>645</td>\n",
       "      <td>RU</td>\n",
       "      <td>EWR</td>\n",
       "      <td>2761</td>\n",
       "      <td>DCA</td>\n",
       "      <td>0</td>\n",
       "      <td>6</td>\n",
       "      <td>31</td>\n",
       "      <td>N15555</td>\n",
       "    </tr>\n",
       "    <tr>\n",
       "      <th>2197</th>\n",
       "      <td>1700</td>\n",
       "      <td>RU</td>\n",
       "      <td>EWR</td>\n",
       "      <td>2497</td>\n",
       "      <td>IAD</td>\n",
       "      <td>0</td>\n",
       "      <td>6</td>\n",
       "      <td>31</td>\n",
       "      <td>N16976</td>\n",
       "    </tr>\n",
       "    <tr>\n",
       "      <th>2198</th>\n",
       "      <td>1600</td>\n",
       "      <td>RU</td>\n",
       "      <td>EWR</td>\n",
       "      <td>2361</td>\n",
       "      <td>DCA</td>\n",
       "      <td>0</td>\n",
       "      <td>6</td>\n",
       "      <td>31</td>\n",
       "      <td>N14902</td>\n",
       "    </tr>\n",
       "    <tr>\n",
       "      <th>2199</th>\n",
       "      <td>1359</td>\n",
       "      <td>RU</td>\n",
       "      <td>EWR</td>\n",
       "      <td>2216</td>\n",
       "      <td>DCA</td>\n",
       "      <td>0</td>\n",
       "      <td>6</td>\n",
       "      <td>31</td>\n",
       "      <td>N16961</td>\n",
       "    </tr>\n",
       "    <tr>\n",
       "      <th>2200</th>\n",
       "      <td>1730</td>\n",
       "      <td>RU</td>\n",
       "      <td>EWR</td>\n",
       "      <td>2097</td>\n",
       "      <td>DCA</td>\n",
       "      <td>0</td>\n",
       "      <td>6</td>\n",
       "      <td>31</td>\n",
       "      <td>N13994</td>\n",
       "    </tr>\n",
       "  </tbody>\n",
       "</table>\n",
       "<p>2201 rows × 9 columns</p>\n",
       "</div>"
      ],
      "text/plain": [
       "      schedtime carrier dest  flightnumber origin  weather  dayweek  daymonth  \\\n",
       "0          1455      OH  JFK          5935    BWI        0        4         1   \n",
       "1          1640      DH  JFK          6155    DCA        0        4         1   \n",
       "2          1245      DH  LGA          7208    IAD        0        4         1   \n",
       "3          1715      DH  LGA          7215    IAD        0        4         1   \n",
       "4          1039      DH  LGA          7792    IAD        0        4         1   \n",
       "...         ...     ...  ...           ...    ...      ...      ...       ...   \n",
       "2196        645      RU  EWR          2761    DCA        0        6        31   \n",
       "2197       1700      RU  EWR          2497    IAD        0        6        31   \n",
       "2198       1600      RU  EWR          2361    DCA        0        6        31   \n",
       "2199       1359      RU  EWR          2216    DCA        0        6        31   \n",
       "2200       1730      RU  EWR          2097    DCA        0        6        31   \n",
       "\n",
       "      tailnu  \n",
       "0     N940CA  \n",
       "1     N405FJ  \n",
       "2     N695BR  \n",
       "3     N662BR  \n",
       "4     N698BR  \n",
       "...      ...  \n",
       "2196  N15555  \n",
       "2197  N16976  \n",
       "2198  N14902  \n",
       "2199  N16961  \n",
       "2200  N13994  \n",
       "\n",
       "[2201 rows x 9 columns]"
      ]
     },
     "execution_count": 15,
     "metadata": {},
     "output_type": "execute_result"
    }
   ],
   "source": [
    "X"
   ]
  },
  {
   "cell_type": "code",
   "execution_count": 16,
   "id": "312bbfc5",
   "metadata": {},
   "outputs": [
    {
     "name": "stdout",
     "output_type": "stream",
     "text": [
      "<class 'pandas.core.frame.DataFrame'>\n",
      "RangeIndex: 2201 entries, 0 to 2200\n",
      "Data columns (total 9 columns):\n",
      " #   Column        Non-Null Count  Dtype \n",
      "---  ------        --------------  ----- \n",
      " 0   schedtime     2201 non-null   int64 \n",
      " 1   carrier       2201 non-null   object\n",
      " 2   dest          2201 non-null   object\n",
      " 3   flightnumber  2201 non-null   int64 \n",
      " 4   origin        2201 non-null   object\n",
      " 5   weather       2201 non-null   int64 \n",
      " 6   dayweek       2201 non-null   int64 \n",
      " 7   daymonth      2201 non-null   int64 \n",
      " 8   tailnu        2201 non-null   object\n",
      "dtypes: int64(5), object(4)\n",
      "memory usage: 154.9+ KB\n"
     ]
    }
   ],
   "source": [
    "X.info()"
   ]
  },
  {
   "cell_type": "code",
   "execution_count": 17,
   "id": "2314a40f",
   "metadata": {},
   "outputs": [
    {
     "name": "stderr",
     "output_type": "stream",
     "text": [
      "C:\\Users\\rikin\\AppData\\Local\\Temp\\ipykernel_12732\\1642247243.py:2: SettingWithCopyWarning: \n",
      "A value is trying to be set on a copy of a slice from a DataFrame.\n",
      "Try using .loc[row_indexer,col_indexer] = value instead\n",
      "\n",
      "See the caveats in the documentation: https://pandas.pydata.org/pandas-docs/stable/user_guide/indexing.html#returning-a-view-versus-a-copy\n",
      "  X[\"carrier\"] = pd.factorize(X[\"carrier\"])[0]\n",
      "C:\\Users\\rikin\\AppData\\Local\\Temp\\ipykernel_12732\\1642247243.py:3: SettingWithCopyWarning: \n",
      "A value is trying to be set on a copy of a slice from a DataFrame.\n",
      "Try using .loc[row_indexer,col_indexer] = value instead\n",
      "\n",
      "See the caveats in the documentation: https://pandas.pydata.org/pandas-docs/stable/user_guide/indexing.html#returning-a-view-versus-a-copy\n",
      "  X[\"dest\"] = pd.factorize(X[\"dest\"])[0]\n",
      "C:\\Users\\rikin\\AppData\\Local\\Temp\\ipykernel_12732\\1642247243.py:4: SettingWithCopyWarning: \n",
      "A value is trying to be set on a copy of a slice from a DataFrame.\n",
      "Try using .loc[row_indexer,col_indexer] = value instead\n",
      "\n",
      "See the caveats in the documentation: https://pandas.pydata.org/pandas-docs/stable/user_guide/indexing.html#returning-a-view-versus-a-copy\n",
      "  X[\"tailnu\"] = pd.factorize(X[\"tailnu\"])[0]\n",
      "C:\\Users\\rikin\\AppData\\Local\\Temp\\ipykernel_12732\\1642247243.py:5: SettingWithCopyWarning: \n",
      "A value is trying to be set on a copy of a slice from a DataFrame.\n",
      "Try using .loc[row_indexer,col_indexer] = value instead\n",
      "\n",
      "See the caveats in the documentation: https://pandas.pydata.org/pandas-docs/stable/user_guide/indexing.html#returning-a-view-versus-a-copy\n",
      "  X[\"origin\"] = pd.factorize(X[\"origin\"])[0]\n",
      "C:\\Users\\rikin\\AppData\\Local\\Temp\\ipykernel_12732\\1642247243.py:7: SettingWithCopyWarning: \n",
      "A value is trying to be set on a copy of a slice from a DataFrame.\n",
      "Try using .loc[row_indexer,col_indexer] = value instead\n",
      "\n",
      "See the caveats in the documentation: https://pandas.pydata.org/pandas-docs/stable/user_guide/indexing.html#returning-a-view-versus-a-copy\n",
      "  y[\"delay\"] = pd.factorize(y[\"delay\"])[0]\n"
     ]
    }
   ],
   "source": [
    "#converting categorical variables to numerical representation\n",
    "X[\"carrier\"] = pd.factorize(X[\"carrier\"])[0]\n",
    "X[\"dest\"] = pd.factorize(X[\"dest\"])[0]\n",
    "X[\"tailnu\"] = pd.factorize(X[\"tailnu\"])[0]\n",
    "X[\"origin\"] = pd.factorize(X[\"origin\"])[0]\n",
    "\n",
    "y[\"delay\"] = pd.factorize(y[\"delay\"])[0]"
   ]
  },
  {
   "cell_type": "code",
   "execution_count": 18,
   "id": "d5e8d94e",
   "metadata": {},
   "outputs": [
    {
     "data": {
      "text/html": [
       "<div>\n",
       "<style scoped>\n",
       "    .dataframe tbody tr th:only-of-type {\n",
       "        vertical-align: middle;\n",
       "    }\n",
       "\n",
       "    .dataframe tbody tr th {\n",
       "        vertical-align: top;\n",
       "    }\n",
       "\n",
       "    .dataframe thead th {\n",
       "        text-align: right;\n",
       "    }\n",
       "</style>\n",
       "<table border=\"1\" class=\"dataframe\">\n",
       "  <thead>\n",
       "    <tr style=\"text-align: right;\">\n",
       "      <th></th>\n",
       "      <th>schedtime</th>\n",
       "      <th>carrier</th>\n",
       "      <th>dest</th>\n",
       "      <th>flightnumber</th>\n",
       "      <th>origin</th>\n",
       "      <th>weather</th>\n",
       "      <th>dayweek</th>\n",
       "      <th>daymonth</th>\n",
       "      <th>tailnu</th>\n",
       "    </tr>\n",
       "  </thead>\n",
       "  <tbody>\n",
       "    <tr>\n",
       "      <th>0</th>\n",
       "      <td>1455</td>\n",
       "      <td>0</td>\n",
       "      <td>0</td>\n",
       "      <td>5935</td>\n",
       "      <td>0</td>\n",
       "      <td>0</td>\n",
       "      <td>4</td>\n",
       "      <td>1</td>\n",
       "      <td>0</td>\n",
       "    </tr>\n",
       "    <tr>\n",
       "      <th>1</th>\n",
       "      <td>1640</td>\n",
       "      <td>1</td>\n",
       "      <td>0</td>\n",
       "      <td>6155</td>\n",
       "      <td>1</td>\n",
       "      <td>0</td>\n",
       "      <td>4</td>\n",
       "      <td>1</td>\n",
       "      <td>1</td>\n",
       "    </tr>\n",
       "    <tr>\n",
       "      <th>2</th>\n",
       "      <td>1245</td>\n",
       "      <td>1</td>\n",
       "      <td>1</td>\n",
       "      <td>7208</td>\n",
       "      <td>2</td>\n",
       "      <td>0</td>\n",
       "      <td>4</td>\n",
       "      <td>1</td>\n",
       "      <td>2</td>\n",
       "    </tr>\n",
       "    <tr>\n",
       "      <th>3</th>\n",
       "      <td>1715</td>\n",
       "      <td>1</td>\n",
       "      <td>1</td>\n",
       "      <td>7215</td>\n",
       "      <td>2</td>\n",
       "      <td>0</td>\n",
       "      <td>4</td>\n",
       "      <td>1</td>\n",
       "      <td>3</td>\n",
       "    </tr>\n",
       "    <tr>\n",
       "      <th>4</th>\n",
       "      <td>1039</td>\n",
       "      <td>1</td>\n",
       "      <td>1</td>\n",
       "      <td>7792</td>\n",
       "      <td>2</td>\n",
       "      <td>0</td>\n",
       "      <td>4</td>\n",
       "      <td>1</td>\n",
       "      <td>4</td>\n",
       "    </tr>\n",
       "    <tr>\n",
       "      <th>...</th>\n",
       "      <td>...</td>\n",
       "      <td>...</td>\n",
       "      <td>...</td>\n",
       "      <td>...</td>\n",
       "      <td>...</td>\n",
       "      <td>...</td>\n",
       "      <td>...</td>\n",
       "      <td>...</td>\n",
       "      <td>...</td>\n",
       "    </tr>\n",
       "    <tr>\n",
       "      <th>2196</th>\n",
       "      <td>645</td>\n",
       "      <td>6</td>\n",
       "      <td>2</td>\n",
       "      <td>2761</td>\n",
       "      <td>1</td>\n",
       "      <td>0</td>\n",
       "      <td>6</td>\n",
       "      <td>31</td>\n",
       "      <td>351</td>\n",
       "    </tr>\n",
       "    <tr>\n",
       "      <th>2197</th>\n",
       "      <td>1700</td>\n",
       "      <td>6</td>\n",
       "      <td>2</td>\n",
       "      <td>2497</td>\n",
       "      <td>2</td>\n",
       "      <td>0</td>\n",
       "      <td>6</td>\n",
       "      <td>31</td>\n",
       "      <td>303</td>\n",
       "    </tr>\n",
       "    <tr>\n",
       "      <th>2198</th>\n",
       "      <td>1600</td>\n",
       "      <td>6</td>\n",
       "      <td>2</td>\n",
       "      <td>2361</td>\n",
       "      <td>1</td>\n",
       "      <td>0</td>\n",
       "      <td>6</td>\n",
       "      <td>31</td>\n",
       "      <td>454</td>\n",
       "    </tr>\n",
       "    <tr>\n",
       "      <th>2199</th>\n",
       "      <td>1359</td>\n",
       "      <td>6</td>\n",
       "      <td>2</td>\n",
       "      <td>2216</td>\n",
       "      <td>1</td>\n",
       "      <td>0</td>\n",
       "      <td>6</td>\n",
       "      <td>31</td>\n",
       "      <td>62</td>\n",
       "    </tr>\n",
       "    <tr>\n",
       "      <th>2200</th>\n",
       "      <td>1730</td>\n",
       "      <td>6</td>\n",
       "      <td>2</td>\n",
       "      <td>2097</td>\n",
       "      <td>1</td>\n",
       "      <td>0</td>\n",
       "      <td>6</td>\n",
       "      <td>31</td>\n",
       "      <td>371</td>\n",
       "    </tr>\n",
       "  </tbody>\n",
       "</table>\n",
       "<p>2201 rows × 9 columns</p>\n",
       "</div>"
      ],
      "text/plain": [
       "      schedtime  carrier  dest  flightnumber  origin  weather  dayweek  \\\n",
       "0          1455        0     0          5935       0        0        4   \n",
       "1          1640        1     0          6155       1        0        4   \n",
       "2          1245        1     1          7208       2        0        4   \n",
       "3          1715        1     1          7215       2        0        4   \n",
       "4          1039        1     1          7792       2        0        4   \n",
       "...         ...      ...   ...           ...     ...      ...      ...   \n",
       "2196        645        6     2          2761       1        0        6   \n",
       "2197       1700        6     2          2497       2        0        6   \n",
       "2198       1600        6     2          2361       1        0        6   \n",
       "2199       1359        6     2          2216       1        0        6   \n",
       "2200       1730        6     2          2097       1        0        6   \n",
       "\n",
       "      daymonth  tailnu  \n",
       "0            1       0  \n",
       "1            1       1  \n",
       "2            1       2  \n",
       "3            1       3  \n",
       "4            1       4  \n",
       "...        ...     ...  \n",
       "2196        31     351  \n",
       "2197        31     303  \n",
       "2198        31     454  \n",
       "2199        31      62  \n",
       "2200        31     371  \n",
       "\n",
       "[2201 rows x 9 columns]"
      ]
     },
     "execution_count": 18,
     "metadata": {},
     "output_type": "execute_result"
    }
   ],
   "source": [
    "X"
   ]
  },
  {
   "cell_type": "code",
   "execution_count": 19,
   "id": "925d6fc3",
   "metadata": {},
   "outputs": [
    {
     "name": "stdout",
     "output_type": "stream",
     "text": [
      "<class 'pandas.core.frame.DataFrame'>\n",
      "RangeIndex: 2201 entries, 0 to 2200\n",
      "Data columns (total 9 columns):\n",
      " #   Column        Non-Null Count  Dtype\n",
      "---  ------        --------------  -----\n",
      " 0   schedtime     2201 non-null   int64\n",
      " 1   carrier       2201 non-null   int64\n",
      " 2   dest          2201 non-null   int64\n",
      " 3   flightnumber  2201 non-null   int64\n",
      " 4   origin        2201 non-null   int64\n",
      " 5   weather       2201 non-null   int64\n",
      " 6   dayweek       2201 non-null   int64\n",
      " 7   daymonth      2201 non-null   int64\n",
      " 8   tailnu        2201 non-null   int64\n",
      "dtypes: int64(9)\n",
      "memory usage: 154.9 KB\n"
     ]
    }
   ],
   "source": [
    "X.info()"
   ]
  },
  {
   "cell_type": "code",
   "execution_count": 20,
   "id": "798bff41",
   "metadata": {},
   "outputs": [
    {
     "data": {
      "text/html": [
       "<div>\n",
       "<style scoped>\n",
       "    .dataframe tbody tr th:only-of-type {\n",
       "        vertical-align: middle;\n",
       "    }\n",
       "\n",
       "    .dataframe tbody tr th {\n",
       "        vertical-align: top;\n",
       "    }\n",
       "\n",
       "    .dataframe thead th {\n",
       "        text-align: right;\n",
       "    }\n",
       "</style>\n",
       "<table border=\"1\" class=\"dataframe\">\n",
       "  <thead>\n",
       "    <tr style=\"text-align: right;\">\n",
       "      <th></th>\n",
       "      <th>delay</th>\n",
       "    </tr>\n",
       "  </thead>\n",
       "  <tbody>\n",
       "    <tr>\n",
       "      <th>0</th>\n",
       "      <td>0</td>\n",
       "    </tr>\n",
       "    <tr>\n",
       "      <th>1</th>\n",
       "      <td>0</td>\n",
       "    </tr>\n",
       "    <tr>\n",
       "      <th>2</th>\n",
       "      <td>0</td>\n",
       "    </tr>\n",
       "    <tr>\n",
       "      <th>3</th>\n",
       "      <td>0</td>\n",
       "    </tr>\n",
       "    <tr>\n",
       "      <th>4</th>\n",
       "      <td>0</td>\n",
       "    </tr>\n",
       "    <tr>\n",
       "      <th>...</th>\n",
       "      <td>...</td>\n",
       "    </tr>\n",
       "    <tr>\n",
       "      <th>2196</th>\n",
       "      <td>0</td>\n",
       "    </tr>\n",
       "    <tr>\n",
       "      <th>2197</th>\n",
       "      <td>0</td>\n",
       "    </tr>\n",
       "    <tr>\n",
       "      <th>2198</th>\n",
       "      <td>0</td>\n",
       "    </tr>\n",
       "    <tr>\n",
       "      <th>2199</th>\n",
       "      <td>0</td>\n",
       "    </tr>\n",
       "    <tr>\n",
       "      <th>2200</th>\n",
       "      <td>0</td>\n",
       "    </tr>\n",
       "  </tbody>\n",
       "</table>\n",
       "<p>2201 rows × 1 columns</p>\n",
       "</div>"
      ],
      "text/plain": [
       "      delay\n",
       "0         0\n",
       "1         0\n",
       "2         0\n",
       "3         0\n",
       "4         0\n",
       "...     ...\n",
       "2196      0\n",
       "2197      0\n",
       "2198      0\n",
       "2199      0\n",
       "2200      0\n",
       "\n",
       "[2201 rows x 1 columns]"
      ]
     },
     "execution_count": 20,
     "metadata": {},
     "output_type": "execute_result"
    }
   ],
   "source": [
    "y"
   ]
  },
  {
   "cell_type": "code",
   "execution_count": 21,
   "id": "ab056055",
   "metadata": {},
   "outputs": [],
   "source": [
    "features = X.columns"
   ]
  },
  {
   "cell_type": "code",
   "execution_count": 22,
   "id": "f1caf943",
   "metadata": {},
   "outputs": [
    {
     "name": "stdout",
     "output_type": "stream",
     "text": [
      "[0.0476182  0.03593901 0.07254791 0.04493827 0.03731771 0.63219655\n",
      " 0.04391717 0.04892968 0.03659558] Index(['schedtime', 'carrier', 'dest', 'flightnumber', 'origin', 'weather',\n",
      "       'dayweek', 'daymonth', 'tailnu'],\n",
      "      dtype='object')\n"
     ]
    },
    {
     "data": {
      "image/png": "[encoded data removed]",
      "text/plain": [
       "<Figure size 640x480 with 1 Axes>"
      ]
     },
     "metadata": {},
     "output_type": "display_data"
    }
   ],
   "source": [
    "from sklearn.model_selection import train_test_split\n",
    "X_train, X_test, y_train, y_test = train_test_split(X, y, test_size=0.20, random_state=12)\n",
    "\n",
    "# fit model no training data\n",
    "\n",
    "xgb = XGBClassifier(n_estimators=100)\n",
    "xgb.fit(X_train, y_train)\n",
    "\n",
    "\n",
    "print(xgb.feature_importances_,features)\n",
    "\n",
    "# plot\n",
    "pyplot.bar(range(len(xgb.feature_importances_)), xgb.feature_importances_)\n",
    "pyplot.show()  \n",
    "\n",
    "#plot_importance(model)\n",
    "#pyplot.show()"
   ]
  },
  {
   "cell_type": "markdown",
   "id": "fa72cb02",
   "metadata": {},
   "source": [
    "# REMOVE TAIL NUMBER"
   ]
  },
  {
   "cell_type": "code",
   "execution_count": 23,
   "id": "59f677ce",
   "metadata": {},
   "outputs": [],
   "source": [
    "# split data into X and y\n",
    "X = df[['schedtime', 'carrier', 'dest', \n",
    "              'flightnumber','origin','weather','dayweek', \n",
    "             'daymonth']]\n",
    "y = df[['delay']]"
   ]
  },
  {
   "cell_type": "code",
   "execution_count": 24,
   "id": "27363121",
   "metadata": {},
   "outputs": [
    {
     "name": "stderr",
     "output_type": "stream",
     "text": [
      "C:\\Users\\rikin\\AppData\\Local\\Temp\\ipykernel_12732\\4109869327.py:2: SettingWithCopyWarning: \n",
      "A value is trying to be set on a copy of a slice from a DataFrame.\n",
      "Try using .loc[row_indexer,col_indexer] = value instead\n",
      "\n",
      "See the caveats in the documentation: https://pandas.pydata.org/pandas-docs/stable/user_guide/indexing.html#returning-a-view-versus-a-copy\n",
      "  X[\"carrier\"] = pd.factorize(X[\"carrier\"])[0]\n",
      "C:\\Users\\rikin\\AppData\\Local\\Temp\\ipykernel_12732\\4109869327.py:3: SettingWithCopyWarning: \n",
      "A value is trying to be set on a copy of a slice from a DataFrame.\n",
      "Try using .loc[row_indexer,col_indexer] = value instead\n",
      "\n",
      "See the caveats in the documentation: https://pandas.pydata.org/pandas-docs/stable/user_guide/indexing.html#returning-a-view-versus-a-copy\n",
      "  X[\"dest\"] = pd.factorize(X[\"dest\"])[0]\n",
      "C:\\Users\\rikin\\AppData\\Local\\Temp\\ipykernel_12732\\4109869327.py:4: SettingWithCopyWarning: \n",
      "A value is trying to be set on a copy of a slice from a DataFrame.\n",
      "Try using .loc[row_indexer,col_indexer] = value instead\n",
      "\n",
      "See the caveats in the documentation: https://pandas.pydata.org/pandas-docs/stable/user_guide/indexing.html#returning-a-view-versus-a-copy\n",
      "  X[\"origin\"] = pd.factorize(X[\"origin\"])[0]\n",
      "C:\\Users\\rikin\\AppData\\Local\\Temp\\ipykernel_12732\\4109869327.py:6: SettingWithCopyWarning: \n",
      "A value is trying to be set on a copy of a slice from a DataFrame.\n",
      "Try using .loc[row_indexer,col_indexer] = value instead\n",
      "\n",
      "See the caveats in the documentation: https://pandas.pydata.org/pandas-docs/stable/user_guide/indexing.html#returning-a-view-versus-a-copy\n",
      "  y[\"delay\"] = pd.factorize(y[\"delay\"])[0]\n"
     ]
    }
   ],
   "source": [
    "#converting categorical variables to numerical representation\n",
    "X[\"carrier\"] = pd.factorize(X[\"carrier\"])[0]\n",
    "X[\"dest\"] = pd.factorize(X[\"dest\"])[0]\n",
    "X[\"origin\"] = pd.factorize(X[\"origin\"])[0]\n",
    "\n",
    "y[\"delay\"] = pd.factorize(y[\"delay\"])[0]"
   ]
  },
  {
   "cell_type": "code",
   "execution_count": 25,
   "id": "226f0116",
   "metadata": {},
   "outputs": [
    {
     "data": {
      "text/html": [
       "<div>\n",
       "<style scoped>\n",
       "    .dataframe tbody tr th:only-of-type {\n",
       "        vertical-align: middle;\n",
       "    }\n",
       "\n",
       "    .dataframe tbody tr th {\n",
       "        vertical-align: top;\n",
       "    }\n",
       "\n",
       "    .dataframe thead th {\n",
       "        text-align: right;\n",
       "    }\n",
       "</style>\n",
       "<table border=\"1\" class=\"dataframe\">\n",
       "  <thead>\n",
       "    <tr style=\"text-align: right;\">\n",
       "      <th></th>\n",
       "      <th>schedtime</th>\n",
       "      <th>carrier</th>\n",
       "      <th>dest</th>\n",
       "      <th>flightnumber</th>\n",
       "      <th>origin</th>\n",
       "      <th>weather</th>\n",
       "      <th>dayweek</th>\n",
       "      <th>daymonth</th>\n",
       "    </tr>\n",
       "  </thead>\n",
       "  <tbody>\n",
       "    <tr>\n",
       "      <th>0</th>\n",
       "      <td>1455</td>\n",
       "      <td>0</td>\n",
       "      <td>0</td>\n",
       "      <td>5935</td>\n",
       "      <td>0</td>\n",
       "      <td>0</td>\n",
       "      <td>4</td>\n",
       "      <td>1</td>\n",
       "    </tr>\n",
       "    <tr>\n",
       "      <th>1</th>\n",
       "      <td>1640</td>\n",
       "      <td>1</td>\n",
       "      <td>0</td>\n",
       "      <td>6155</td>\n",
       "      <td>1</td>\n",
       "      <td>0</td>\n",
       "      <td>4</td>\n",
       "      <td>1</td>\n",
       "    </tr>\n",
       "    <tr>\n",
       "      <th>2</th>\n",
       "      <td>1245</td>\n",
       "      <td>1</td>\n",
       "      <td>1</td>\n",
       "      <td>7208</td>\n",
       "      <td>2</td>\n",
       "      <td>0</td>\n",
       "      <td>4</td>\n",
       "      <td>1</td>\n",
       "    </tr>\n",
       "    <tr>\n",
       "      <th>3</th>\n",
       "      <td>1715</td>\n",
       "      <td>1</td>\n",
       "      <td>1</td>\n",
       "      <td>7215</td>\n",
       "      <td>2</td>\n",
       "      <td>0</td>\n",
       "      <td>4</td>\n",
       "      <td>1</td>\n",
       "    </tr>\n",
       "    <tr>\n",
       "      <th>4</th>\n",
       "      <td>1039</td>\n",
       "      <td>1</td>\n",
       "      <td>1</td>\n",
       "      <td>7792</td>\n",
       "      <td>2</td>\n",
       "      <td>0</td>\n",
       "      <td>4</td>\n",
       "      <td>1</td>\n",
       "    </tr>\n",
       "    <tr>\n",
       "      <th>...</th>\n",
       "      <td>...</td>\n",
       "      <td>...</td>\n",
       "      <td>...</td>\n",
       "      <td>...</td>\n",
       "      <td>...</td>\n",
       "      <td>...</td>\n",
       "      <td>...</td>\n",
       "      <td>...</td>\n",
       "    </tr>\n",
       "    <tr>\n",
       "      <th>2196</th>\n",
       "      <td>645</td>\n",
       "      <td>6</td>\n",
       "      <td>2</td>\n",
       "      <td>2761</td>\n",
       "      <td>1</td>\n",
       "      <td>0</td>\n",
       "      <td>6</td>\n",
       "      <td>31</td>\n",
       "    </tr>\n",
       "    <tr>\n",
       "      <th>2197</th>\n",
       "      <td>1700</td>\n",
       "      <td>6</td>\n",
       "      <td>2</td>\n",
       "      <td>2497</td>\n",
       "      <td>2</td>\n",
       "      <td>0</td>\n",
       "      <td>6</td>\n",
       "      <td>31</td>\n",
       "    </tr>\n",
       "    <tr>\n",
       "      <th>2198</th>\n",
       "      <td>1600</td>\n",
       "      <td>6</td>\n",
       "      <td>2</td>\n",
       "      <td>2361</td>\n",
       "      <td>1</td>\n",
       "      <td>0</td>\n",
       "      <td>6</td>\n",
       "      <td>31</td>\n",
       "    </tr>\n",
       "    <tr>\n",
       "      <th>2199</th>\n",
       "      <td>1359</td>\n",
       "      <td>6</td>\n",
       "      <td>2</td>\n",
       "      <td>2216</td>\n",
       "      <td>1</td>\n",
       "      <td>0</td>\n",
       "      <td>6</td>\n",
       "      <td>31</td>\n",
       "    </tr>\n",
       "    <tr>\n",
       "      <th>2200</th>\n",
       "      <td>1730</td>\n",
       "      <td>6</td>\n",
       "      <td>2</td>\n",
       "      <td>2097</td>\n",
       "      <td>1</td>\n",
       "      <td>0</td>\n",
       "      <td>6</td>\n",
       "      <td>31</td>\n",
       "    </tr>\n",
       "  </tbody>\n",
       "</table>\n",
       "<p>2201 rows × 8 columns</p>\n",
       "</div>"
      ],
      "text/plain": [
       "      schedtime  carrier  dest  flightnumber  origin  weather  dayweek  \\\n",
       "0          1455        0     0          5935       0        0        4   \n",
       "1          1640        1     0          6155       1        0        4   \n",
       "2          1245        1     1          7208       2        0        4   \n",
       "3          1715        1     1          7215       2        0        4   \n",
       "4          1039        1     1          7792       2        0        4   \n",
       "...         ...      ...   ...           ...     ...      ...      ...   \n",
       "2196        645        6     2          2761       1        0        6   \n",
       "2197       1700        6     2          2497       2        0        6   \n",
       "2198       1600        6     2          2361       1        0        6   \n",
       "2199       1359        6     2          2216       1        0        6   \n",
       "2200       1730        6     2          2097       1        0        6   \n",
       "\n",
       "      daymonth  \n",
       "0            1  \n",
       "1            1  \n",
       "2            1  \n",
       "3            1  \n",
       "4            1  \n",
       "...        ...  \n",
       "2196        31  \n",
       "2197        31  \n",
       "2198        31  \n",
       "2199        31  \n",
       "2200        31  \n",
       "\n",
       "[2201 rows x 8 columns]"
      ]
     },
     "execution_count": 25,
     "metadata": {},
     "output_type": "execute_result"
    }
   ],
   "source": [
    "X"
   ]
  },
  {
   "cell_type": "code",
   "execution_count": 26,
   "id": "f8878e16",
   "metadata": {},
   "outputs": [
    {
     "name": "stdout",
     "output_type": "stream",
     "text": [
      "<class 'pandas.core.frame.DataFrame'>\n",
      "RangeIndex: 2201 entries, 0 to 2200\n",
      "Data columns (total 8 columns):\n",
      " #   Column        Non-Null Count  Dtype\n",
      "---  ------        --------------  -----\n",
      " 0   schedtime     2201 non-null   int64\n",
      " 1   carrier       2201 non-null   int64\n",
      " 2   dest          2201 non-null   int64\n",
      " 3   flightnumber  2201 non-null   int64\n",
      " 4   origin        2201 non-null   int64\n",
      " 5   weather       2201 non-null   int64\n",
      " 6   dayweek       2201 non-null   int64\n",
      " 7   daymonth      2201 non-null   int64\n",
      "dtypes: int64(8)\n",
      "memory usage: 137.7 KB\n"
     ]
    }
   ],
   "source": [
    "X.info()"
   ]
  },
  {
   "cell_type": "code",
   "execution_count": 27,
   "id": "b567b6f4",
   "metadata": {},
   "outputs": [
    {
     "data": {
      "text/plain": [
       "array(['BWI', 'DCA', 'IAD'], dtype=object)"
      ]
     },
     "execution_count": 27,
     "metadata": {},
     "output_type": "execute_result"
    }
   ],
   "source": [
    "df.origin.unique()"
   ]
  },
  {
   "cell_type": "code",
   "execution_count": 28,
   "id": "84286a05",
   "metadata": {},
   "outputs": [
    {
     "data": {
      "text/html": [
       "<div>\n",
       "<style scoped>\n",
       "    .dataframe tbody tr th:only-of-type {\n",
       "        vertical-align: middle;\n",
       "    }\n",
       "\n",
       "    .dataframe tbody tr th {\n",
       "        vertical-align: top;\n",
       "    }\n",
       "\n",
       "    .dataframe thead th {\n",
       "        text-align: right;\n",
       "    }\n",
       "</style>\n",
       "<table border=\"1\" class=\"dataframe\">\n",
       "  <thead>\n",
       "    <tr style=\"text-align: right;\">\n",
       "      <th></th>\n",
       "      <th>delay</th>\n",
       "    </tr>\n",
       "  </thead>\n",
       "  <tbody>\n",
       "    <tr>\n",
       "      <th>0</th>\n",
       "      <td>0</td>\n",
       "    </tr>\n",
       "    <tr>\n",
       "      <th>1</th>\n",
       "      <td>0</td>\n",
       "    </tr>\n",
       "    <tr>\n",
       "      <th>2</th>\n",
       "      <td>0</td>\n",
       "    </tr>\n",
       "    <tr>\n",
       "      <th>3</th>\n",
       "      <td>0</td>\n",
       "    </tr>\n",
       "    <tr>\n",
       "      <th>4</th>\n",
       "      <td>0</td>\n",
       "    </tr>\n",
       "    <tr>\n",
       "      <th>...</th>\n",
       "      <td>...</td>\n",
       "    </tr>\n",
       "    <tr>\n",
       "      <th>2196</th>\n",
       "      <td>0</td>\n",
       "    </tr>\n",
       "    <tr>\n",
       "      <th>2197</th>\n",
       "      <td>0</td>\n",
       "    </tr>\n",
       "    <tr>\n",
       "      <th>2198</th>\n",
       "      <td>0</td>\n",
       "    </tr>\n",
       "    <tr>\n",
       "      <th>2199</th>\n",
       "      <td>0</td>\n",
       "    </tr>\n",
       "    <tr>\n",
       "      <th>2200</th>\n",
       "      <td>0</td>\n",
       "    </tr>\n",
       "  </tbody>\n",
       "</table>\n",
       "<p>2201 rows × 1 columns</p>\n",
       "</div>"
      ],
      "text/plain": [
       "      delay\n",
       "0         0\n",
       "1         0\n",
       "2         0\n",
       "3         0\n",
       "4         0\n",
       "...     ...\n",
       "2196      0\n",
       "2197      0\n",
       "2198      0\n",
       "2199      0\n",
       "2200      0\n",
       "\n",
       "[2201 rows x 1 columns]"
      ]
     },
     "execution_count": 28,
     "metadata": {},
     "output_type": "execute_result"
    }
   ],
   "source": [
    "y"
   ]
  },
  {
   "cell_type": "code",
   "execution_count": 29,
   "id": "a1a3de42",
   "metadata": {},
   "outputs": [],
   "source": [
    "from sklearn.model_selection import train_test_split\n",
    "X_train, X_test, y_train, y_test = train_test_split(X, y, test_size=0.20, random_state=12)"
   ]
  },
  {
   "cell_type": "code",
   "execution_count": 30,
   "id": "97c846f3",
   "metadata": {},
   "outputs": [
    {
     "data": {
      "text/html": [
       "<div>\n",
       "<style scoped>\n",
       "    .dataframe tbody tr th:only-of-type {\n",
       "        vertical-align: middle;\n",
       "    }\n",
       "\n",
       "    .dataframe tbody tr th {\n",
       "        vertical-align: top;\n",
       "    }\n",
       "\n",
       "    .dataframe thead th {\n",
       "        text-align: right;\n",
       "    }\n",
       "</style>\n",
       "<table border=\"1\" class=\"dataframe\">\n",
       "  <thead>\n",
       "    <tr style=\"text-align: right;\">\n",
       "      <th></th>\n",
       "      <th>schedtime</th>\n",
       "      <th>carrier</th>\n",
       "      <th>dest</th>\n",
       "      <th>flightnumber</th>\n",
       "      <th>origin</th>\n",
       "      <th>weather</th>\n",
       "      <th>dayweek</th>\n",
       "      <th>daymonth</th>\n",
       "    </tr>\n",
       "  </thead>\n",
       "  <tbody>\n",
       "    <tr>\n",
       "      <th>1625</th>\n",
       "      <td>1530</td>\n",
       "      <td>2</td>\n",
       "      <td>1</td>\n",
       "      <td>1758</td>\n",
       "      <td>1</td>\n",
       "      <td>0</td>\n",
       "      <td>5</td>\n",
       "      <td>23</td>\n",
       "    </tr>\n",
       "    <tr>\n",
       "      <th>2181</th>\n",
       "      <td>1500</td>\n",
       "      <td>5</td>\n",
       "      <td>1</td>\n",
       "      <td>2176</td>\n",
       "      <td>1</td>\n",
       "      <td>0</td>\n",
       "      <td>6</td>\n",
       "      <td>31</td>\n",
       "    </tr>\n",
       "    <tr>\n",
       "      <th>1523</th>\n",
       "      <td>1040</td>\n",
       "      <td>1</td>\n",
       "      <td>1</td>\n",
       "      <td>7792</td>\n",
       "      <td>2</td>\n",
       "      <td>0</td>\n",
       "      <td>4</td>\n",
       "      <td>22</td>\n",
       "    </tr>\n",
       "    <tr>\n",
       "      <th>362</th>\n",
       "      <td>2000</td>\n",
       "      <td>5</td>\n",
       "      <td>1</td>\n",
       "      <td>2186</td>\n",
       "      <td>1</td>\n",
       "      <td>0</td>\n",
       "      <td>2</td>\n",
       "      <td>6</td>\n",
       "    </tr>\n",
       "    <tr>\n",
       "      <th>1230</th>\n",
       "      <td>2030</td>\n",
       "      <td>2</td>\n",
       "      <td>1</td>\n",
       "      <td>1768</td>\n",
       "      <td>1</td>\n",
       "      <td>0</td>\n",
       "      <td>7</td>\n",
       "      <td>18</td>\n",
       "    </tr>\n",
       "    <tr>\n",
       "      <th>...</th>\n",
       "      <td>...</td>\n",
       "      <td>...</td>\n",
       "      <td>...</td>\n",
       "      <td>...</td>\n",
       "      <td>...</td>\n",
       "      <td>...</td>\n",
       "      <td>...</td>\n",
       "      <td>...</td>\n",
       "    </tr>\n",
       "    <tr>\n",
       "      <th>1987</th>\n",
       "      <td>1245</td>\n",
       "      <td>1</td>\n",
       "      <td>1</td>\n",
       "      <td>7208</td>\n",
       "      <td>2</td>\n",
       "      <td>0</td>\n",
       "      <td>4</td>\n",
       "      <td>29</td>\n",
       "    </tr>\n",
       "    <tr>\n",
       "      <th>1283</th>\n",
       "      <td>1030</td>\n",
       "      <td>2</td>\n",
       "      <td>1</td>\n",
       "      <td>1748</td>\n",
       "      <td>1</td>\n",
       "      <td>0</td>\n",
       "      <td>1</td>\n",
       "      <td>19</td>\n",
       "    </tr>\n",
       "    <tr>\n",
       "      <th>1414</th>\n",
       "      <td>840</td>\n",
       "      <td>1</td>\n",
       "      <td>2</td>\n",
       "      <td>7299</td>\n",
       "      <td>2</td>\n",
       "      <td>0</td>\n",
       "      <td>2</td>\n",
       "      <td>20</td>\n",
       "    </tr>\n",
       "    <tr>\n",
       "      <th>1691</th>\n",
       "      <td>1715</td>\n",
       "      <td>1</td>\n",
       "      <td>0</td>\n",
       "      <td>7812</td>\n",
       "      <td>2</td>\n",
       "      <td>0</td>\n",
       "      <td>6</td>\n",
       "      <td>24</td>\n",
       "    </tr>\n",
       "    <tr>\n",
       "      <th>1867</th>\n",
       "      <td>1245</td>\n",
       "      <td>1</td>\n",
       "      <td>1</td>\n",
       "      <td>7208</td>\n",
       "      <td>2</td>\n",
       "      <td>1</td>\n",
       "      <td>2</td>\n",
       "      <td>27</td>\n",
       "    </tr>\n",
       "  </tbody>\n",
       "</table>\n",
       "<p>1760 rows × 8 columns</p>\n",
       "</div>"
      ],
      "text/plain": [
       "      schedtime  carrier  dest  flightnumber  origin  weather  dayweek  \\\n",
       "1625       1530        2     1          1758       1        0        5   \n",
       "2181       1500        5     1          2176       1        0        6   \n",
       "1523       1040        1     1          7792       2        0        4   \n",
       "362        2000        5     1          2186       1        0        2   \n",
       "1230       2030        2     1          1768       1        0        7   \n",
       "...         ...      ...   ...           ...     ...      ...      ...   \n",
       "1987       1245        1     1          7208       2        0        4   \n",
       "1283       1030        2     1          1748       1        0        1   \n",
       "1414        840        1     2          7299       2        0        2   \n",
       "1691       1715        1     0          7812       2        0        6   \n",
       "1867       1245        1     1          7208       2        1        2   \n",
       "\n",
       "      daymonth  \n",
       "1625        23  \n",
       "2181        31  \n",
       "1523        22  \n",
       "362          6  \n",
       "1230        18  \n",
       "...        ...  \n",
       "1987        29  \n",
       "1283        19  \n",
       "1414        20  \n",
       "1691        24  \n",
       "1867        27  \n",
       "\n",
       "[1760 rows x 8 columns]"
      ]
     },
     "execution_count": 30,
     "metadata": {},
     "output_type": "execute_result"
    }
   ],
   "source": [
    "X_train"
   ]
  },
  {
   "cell_type": "markdown",
   "id": "e382b2ba",
   "metadata": {},
   "source": [
    "# Logistic Regression"
   ]
  },
  {
   "cell_type": "code",
   "execution_count": 31,
   "id": "f836f781",
   "metadata": {},
   "outputs": [
    {
     "name": "stdout",
     "output_type": "stream",
     "text": [
      "Logistic Regression model accuracy(in %): 81.85941043083899\n"
     ]
    },
    {
     "name": "stderr",
     "output_type": "stream",
     "text": [
      "C:\\Users\\rikin\\anaconda3\\envs\\tf-gpu\\lib\\site-packages\\sklearn\\utils\\validation.py:1141: DataConversionWarning: A column-vector y was passed when a 1d array was expected. Please change the shape of y to (n_samples, ), for example using ravel().\n",
      "  y = column_or_1d(y, warn=True)\n"
     ]
    }
   ],
   "source": [
    "\n",
    "from sklearn import datasets, linear_model, metrics\n",
    "   \n",
    "reg = linear_model.LogisticRegression(max_iter=500)\n",
    "   \n",
    "# train the model using the training sets\n",
    "reg.fit(X_train, y_train)\n",
    "  \n",
    "# making predictions on the testing set\n",
    "y_pred = reg.predict(X_test)\n",
    "   \n",
    "# comparing actual response values (y_test) with predicted response values (y_pred)\n",
    "print(\"Logistic Regression model accuracy(in %):\", \n",
    "metrics.accuracy_score(y_test, y_pred)*100)"
   ]
  },
  {
   "cell_type": "code",
   "execution_count": 32,
   "id": "c7cd5e6f",
   "metadata": {},
   "outputs": [],
   "source": [
    "# Importing cross validation function from sklearn\n",
    "from sklearn.model_selection import cross_val_score\n",
    "from sklearn.metrics import classification_report, confusion_matrix\n",
    "\n",
    "# To calculate the accuracy score of the model\n",
    "from sklearn.metrics import accuracy_score, confusion_matrix\n",
    " \n",
    "\n",
    "def print_score(clf, X_train, y_train,\n",
    "                X_test, y_test,\n",
    "                train=True):\n",
    "  \n",
    "    if train:\n",
    "        print(\"Train Result:\")\n",
    "        print(\"------------\")\n",
    "        print(\"Classification Report: \\n {}\\n\".format(classification_report(\n",
    "            y_train, clf.predict(X_train))))\n",
    "  \n",
    "        print(\"Confusion Matrix: \\n {}\\n\".format(confusion_matrix(\n",
    "            y_train, clf.predict(X_train))))\n",
    "  \n",
    "        res = cross_val_score(clf, X_train, y_train,\n",
    "                              cv=10, scoring='accuracy')\n",
    "  \n",
    "        print(\"Average Accuracy: \\t {0:.4f}\".format(np.mean(res)))\n",
    "        print(\"Accuracy SD: \\t\\t {0:.4f}\".format(np.std(res)))\n",
    "        print(\"----------------------------------------------------------\")\n",
    "  \n",
    "    elif train == False:\n",
    "  \n",
    "        print(\"Test Result:\")\n",
    "        print(\"-----------\")\n",
    "        print(\"Classification Report: \\n {}\\n\".format(\n",
    "            classification_report(y_test, clf.predict(X_test))))\n",
    "  \n",
    "        print(\"Confusion Matrix: \\n {}\\n\".format(\n",
    "            confusion_matrix(y_test, clf.predict(X_test))))\n",
    "  \n",
    "        print(\"accuracy score: {0:.4f}\\n\".format(\n",
    "            accuracy_score(y_test, clf.predict(X_test))))\n",
    "  \n",
    "        print(\"-----------------------------------------------------------\")\n",
    "  "
   ]
  },
  {
   "cell_type": "code",
   "execution_count": 33,
   "id": "a061c3c4",
   "metadata": {},
   "outputs": [
    {
     "name": "stderr",
     "output_type": "stream",
     "text": [
      "C:\\Users\\rikin\\anaconda3\\envs\\tf-gpu\\lib\\site-packages\\sklearn\\utils\\validation.py:1141: DataConversionWarning: A column-vector y was passed when a 1d array was expected. Please change the shape of y to (n_samples, ), for example using ravel().\n",
      "  y = column_or_1d(y, warn=True)\n",
      "C:\\Users\\rikin\\anaconda3\\envs\\tf-gpu\\lib\\site-packages\\sklearn\\utils\\validation.py:1141: DataConversionWarning: A column-vector y was passed when a 1d array was expected. Please change the shape of y to (n_samples, ), for example using ravel().\n",
      "  y = column_or_1d(y, warn=True)\n",
      "C:\\Users\\rikin\\anaconda3\\envs\\tf-gpu\\lib\\site-packages\\sklearn\\utils\\validation.py:1141: DataConversionWarning: A column-vector y was passed when a 1d array was expected. Please change the shape of y to (n_samples, ), for example using ravel().\n",
      "  y = column_or_1d(y, warn=True)\n",
      "C:\\Users\\rikin\\anaconda3\\envs\\tf-gpu\\lib\\site-packages\\sklearn\\utils\\validation.py:1141: DataConversionWarning: A column-vector y was passed when a 1d array was expected. Please change the shape of y to (n_samples, ), for example using ravel().\n",
      "  y = column_or_1d(y, warn=True)\n",
      "C:\\Users\\rikin\\anaconda3\\envs\\tf-gpu\\lib\\site-packages\\sklearn\\utils\\validation.py:1141: DataConversionWarning: A column-vector y was passed when a 1d array was expected. Please change the shape of y to (n_samples, ), for example using ravel().\n",
      "  y = column_or_1d(y, warn=True)\n"
     ]
    },
    {
     "name": "stdout",
     "output_type": "stream",
     "text": [
      "Train Result:\n",
      "------------\n",
      "Classification Report: \n",
      "               precision    recall  f1-score   support\n",
      "\n",
      "           0       0.82      1.00      0.90      1417\n",
      "           1       1.00      0.08      0.15       343\n",
      "\n",
      "    accuracy                           0.82      1760\n",
      "   macro avg       0.91      0.54      0.52      1760\n",
      "weighted avg       0.85      0.82      0.75      1760\n",
      "\n",
      "\n",
      "Confusion Matrix: \n",
      " [[1417    0]\n",
      " [ 316   27]]\n",
      "\n"
     ]
    },
    {
     "name": "stderr",
     "output_type": "stream",
     "text": [
      "C:\\Users\\rikin\\anaconda3\\envs\\tf-gpu\\lib\\site-packages\\sklearn\\utils\\validation.py:1141: DataConversionWarning: A column-vector y was passed when a 1d array was expected. Please change the shape of y to (n_samples, ), for example using ravel().\n",
      "  y = column_or_1d(y, warn=True)\n",
      "C:\\Users\\rikin\\anaconda3\\envs\\tf-gpu\\lib\\site-packages\\sklearn\\utils\\validation.py:1141: DataConversionWarning: A column-vector y was passed when a 1d array was expected. Please change the shape of y to (n_samples, ), for example using ravel().\n",
      "  y = column_or_1d(y, warn=True)\n"
     ]
    },
    {
     "name": "stdout",
     "output_type": "stream",
     "text": [
      "Average Accuracy: \t 0.8153\n",
      "Accuracy SD: \t\t 0.0106\n",
      "----------------------------------------------------------\n",
      "Test Result:\n",
      "-----------\n",
      "Classification Report: \n",
      "               precision    recall  f1-score   support\n",
      "\n",
      "           0       0.82      1.00      0.90       356\n",
      "           1       1.00      0.06      0.11        85\n",
      "\n",
      "    accuracy                           0.82       441\n",
      "   macro avg       0.91      0.53      0.51       441\n",
      "weighted avg       0.85      0.82      0.75       441\n",
      "\n",
      "\n",
      "Confusion Matrix: \n",
      " [[356   0]\n",
      " [ 80   5]]\n",
      "\n",
      "accuracy score: 0.8186\n",
      "\n",
      "-----------------------------------------------------------\n"
     ]
    },
    {
     "name": "stderr",
     "output_type": "stream",
     "text": [
      "C:\\Users\\rikin\\anaconda3\\envs\\tf-gpu\\lib\\site-packages\\sklearn\\utils\\validation.py:1141: DataConversionWarning: A column-vector y was passed when a 1d array was expected. Please change the shape of y to (n_samples, ), for example using ravel().\n",
      "  y = column_or_1d(y, warn=True)\n",
      "C:\\Users\\rikin\\anaconda3\\envs\\tf-gpu\\lib\\site-packages\\sklearn\\utils\\validation.py:1141: DataConversionWarning: A column-vector y was passed when a 1d array was expected. Please change the shape of y to (n_samples, ), for example using ravel().\n",
      "  y = column_or_1d(y, warn=True)\n",
      "C:\\Users\\rikin\\anaconda3\\envs\\tf-gpu\\lib\\site-packages\\sklearn\\utils\\validation.py:1141: DataConversionWarning: A column-vector y was passed when a 1d array was expected. Please change the shape of y to (n_samples, ), for example using ravel().\n",
      "  y = column_or_1d(y, warn=True)\n"
     ]
    }
   ],
   "source": [
    "print_score(reg, X_train, y_train,\n",
    "            X_test, y_test,\n",
    "            train=True)\n",
    "  \n",
    "print_score(reg, X_train, y_train,\n",
    "            X_test, y_test,\n",
    "            train=False)"
   ]
  },
  {
   "cell_type": "code",
   "execution_count": 34,
   "id": "85ac55a9",
   "metadata": {},
   "outputs": [
    {
     "data": {
      "text/plain": [
       "<AxesSubplot: >"
      ]
     },
     "execution_count": 34,
     "metadata": {},
     "output_type": "execute_result"
    },
    {
     "data": {
      "image/png": "[encoded data removed]",
      "text/plain": [
       "<Figure size 640x480 with 2 Axes>"
      ]
     },
     "metadata": {},
     "output_type": "display_data"
    }
   ],
   "source": [
    "import seaborn as sns\n",
    "\n",
    "cm = confusion_matrix(y_test, y_pred)\n",
    "sns.heatmap(cm, annot=True)"
   ]
  },
  {
   "cell_type": "markdown",
   "id": "b6c4c728",
   "metadata": {},
   "source": [
    "# Support Vector Classifier"
   ]
  },
  {
   "cell_type": "code",
   "execution_count": 1,
   "id": "d579039d",
   "metadata": {},
   "outputs": [
    {
     "ename": "NameError",
     "evalue": "name 'X_train' is not defined",
     "output_type": "error",
     "traceback": [
      "\u001b[1;31m---------------------------------------------------------------------------\u001b[0m",
      "\u001b[1;31mNameError\u001b[0m                                 Traceback (most recent call last)",
      "Cell \u001b[1;32mIn[1], line 8\u001b[0m\n\u001b[0;32m      6\u001b[0m \u001b[38;5;66;03m# Building a Support Vector Machine on train data\u001b[39;00m\n\u001b[0;32m      7\u001b[0m svc_model1 \u001b[38;5;241m=\u001b[39m SVC(C\u001b[38;5;241m=\u001b[39m \u001b[38;5;241m.1\u001b[39m, kernel\u001b[38;5;241m=\u001b[39m\u001b[38;5;124m'\u001b[39m\u001b[38;5;124mlinear\u001b[39m\u001b[38;5;124m'\u001b[39m, gamma\u001b[38;5;241m=\u001b[39m \u001b[38;5;241m1\u001b[39m)\n\u001b[1;32m----> 8\u001b[0m svc_model1\u001b[38;5;241m.\u001b[39mfit(\u001b[43mX_train\u001b[49m, y_train)\n\u001b[0;32m     10\u001b[0m y_pred \u001b[38;5;241m=\u001b[39m svc_model1\u001b[38;5;241m.\u001b[39mpredict(X_test)\n",
      "\u001b[1;31mNameError\u001b[0m: name 'X_train' is not defined"
     ]
    }
   ],
   "source": [
    "# To calculate the accuracy score of the model\n",
    "from sklearn.metrics import accuracy_score, confusion_matrix\n",
    " \n",
    "from sklearn.svm import SVC\n",
    " \n",
    "# Building a Support Vector Machine on train data\n",
    "svc_model1 = SVC(C= .1, kernel='linear', gamma= 1)\n",
    "svc_model1.fit(X_train, y_train)\n",
    " \n",
    "y_pred = svc_model1.predict(X_test)"
   ]
  },
  {
   "cell_type": "code",
   "execution_count": null,
   "id": "2bfb1837",
   "metadata": {},
   "outputs": [],
   "source": [
    "# check the accuracy on the training set\n",
    "print(svc_model1.score(X_train, y_train))\n",
    "print(svc_model1.score(X_test, y_test))"
   ]
  },
  {
   "cell_type": "code",
   "execution_count": null,
   "id": "3f615c0e",
   "metadata": {},
   "outputs": [],
   "source": [
    "# using metrics module for accuracy calculation\n",
    "print(\"ACCURACY OF THE MODEL: \", metrics.accuracy_score(y_test, y_pred))"
   ]
  },
  {
   "cell_type": "code",
   "execution_count": null,
   "id": "fabb019a",
   "metadata": {},
   "outputs": [],
   "source": [
    "print(\"Confusion Matrix:\\n\",confusion_matrix(y_pred,y_test))"
   ]
  },
  {
   "cell_type": "code",
   "execution_count": 37,
   "id": "60965063",
   "metadata": {},
   "outputs": [
    {
     "name": "stderr",
     "output_type": "stream",
     "text": [
      "C:\\Users\\rikin\\anaconda3\\envs\\tf-gpu\\lib\\site-packages\\sklearn\\utils\\validation.py:1141: DataConversionWarning: A column-vector y was passed when a 1d array was expected. Please change the shape of y to (n_samples, ), for example using ravel().\n",
      "  y = column_or_1d(y, warn=True)\n"
     ]
    }
   ],
   "source": [
    "svc_model = SVC(kernel='rbf')\n",
    "svc_model.fit(X_train, y_train)\n",
    "\n",
    "y_pred = svc_model.predict(X_test)"
   ]
  },
  {
   "cell_type": "code",
   "execution_count": 38,
   "id": "e7a4c55c",
   "metadata": {},
   "outputs": [
    {
     "name": "stdout",
     "output_type": "stream",
     "text": [
      "0.8051136363636363\n",
      "0.8072562358276644\n"
     ]
    }
   ],
   "source": [
    "\n",
    "print(svc_model.score(X_train, y_train))\n",
    "print(svc_model.score(X_test, y_test))"
   ]
  },
  {
   "cell_type": "code",
   "execution_count": 39,
   "id": "be1fa86f",
   "metadata": {},
   "outputs": [
    {
     "name": "stdout",
     "output_type": "stream",
     "text": [
      "0.8051136363636363\n",
      "0.8072562358276644\n"
     ]
    },
    {
     "name": "stderr",
     "output_type": "stream",
     "text": [
      "C:\\Users\\rikin\\anaconda3\\envs\\tf-gpu\\lib\\site-packages\\sklearn\\utils\\validation.py:1141: DataConversionWarning: A column-vector y was passed when a 1d array was expected. Please change the shape of y to (n_samples, ), for example using ravel().\n",
      "  y = column_or_1d(y, warn=True)\n"
     ]
    }
   ],
   "source": [
    "\n",
    "#Building a Support Vector Machine on train data(changing the kernel)\n",
    "svc_model2  = SVC(kernel='poly')\n",
    "svc_model2.fit(X_train, y_train)\n",
    " \n",
    "y_pred = svc_model2.predict(X_test)\n",
    " \n",
    "print(svc_model2.score(X_train, y_train))\n",
    "print(svc_model2.score(X_test, y_test))"
   ]
  },
  {
   "cell_type": "code",
   "execution_count": 40,
   "id": "e595ef1e",
   "metadata": {},
   "outputs": [
    {
     "name": "stdout",
     "output_type": "stream",
     "text": [
      "0.7511363636363636\n",
      "0.746031746031746\n"
     ]
    },
    {
     "name": "stderr",
     "output_type": "stream",
     "text": [
      "C:\\Users\\rikin\\anaconda3\\envs\\tf-gpu\\lib\\site-packages\\sklearn\\utils\\validation.py:1141: DataConversionWarning: A column-vector y was passed when a 1d array was expected. Please change the shape of y to (n_samples, ), for example using ravel().\n",
      "  y = column_or_1d(y, warn=True)\n"
     ]
    }
   ],
   "source": [
    "\n",
    "svc_model = SVC(kernel='sigmoid')\n",
    "svc_model.fit(X_train, y_train)\n",
    " \n",
    "y_pred= svc_model.predict(X_test)\n",
    " \n",
    "print(svc_model.score(X_train, y_train))\n",
    "print(svc_model.score(X_test, y_test))"
   ]
  },
  {
   "cell_type": "code",
   "execution_count": 42,
   "id": "30d758c3",
   "metadata": {},
   "outputs": [
    {
     "name": "stdout",
     "output_type": "stream",
     "text": [
      "Train Result:\n",
      "------------\n",
      "Classification Report: \n",
      "               precision    recall  f1-score   support\n",
      "\n",
      "           0       0.81      1.00      0.89      1417\n",
      "           1       0.00      0.00      0.00       343\n",
      "\n",
      "    accuracy                           0.81      1760\n",
      "   macro avg       0.40      0.50      0.45      1760\n",
      "weighted avg       0.65      0.81      0.72      1760\n",
      "\n",
      "\n",
      "Confusion Matrix: \n",
      " [[1417    0]\n",
      " [ 343    0]]\n",
      "\n"
     ]
    },
    {
     "name": "stderr",
     "output_type": "stream",
     "text": [
      "C:\\Users\\rikin\\anaconda3\\envs\\tf-gpu\\lib\\site-packages\\sklearn\\metrics\\_classification.py:1344: UndefinedMetricWarning: Precision and F-score are ill-defined and being set to 0.0 in labels with no predicted samples. Use `zero_division` parameter to control this behavior.\n",
      "  _warn_prf(average, modifier, msg_start, len(result))\n",
      "C:\\Users\\rikin\\anaconda3\\envs\\tf-gpu\\lib\\site-packages\\sklearn\\metrics\\_classification.py:1344: UndefinedMetricWarning: Precision and F-score are ill-defined and being set to 0.0 in labels with no predicted samples. Use `zero_division` parameter to control this behavior.\n",
      "  _warn_prf(average, modifier, msg_start, len(result))\n",
      "C:\\Users\\rikin\\anaconda3\\envs\\tf-gpu\\lib\\site-packages\\sklearn\\metrics\\_classification.py:1344: UndefinedMetricWarning: Precision and F-score are ill-defined and being set to 0.0 in labels with no predicted samples. Use `zero_division` parameter to control this behavior.\n",
      "  _warn_prf(average, modifier, msg_start, len(result))\n",
      "C:\\Users\\rikin\\anaconda3\\envs\\tf-gpu\\lib\\site-packages\\sklearn\\utils\\validation.py:1141: DataConversionWarning: A column-vector y was passed when a 1d array was expected. Please change the shape of y to (n_samples, ), for example using ravel().\n",
      "  y = column_or_1d(y, warn=True)\n",
      "C:\\Users\\rikin\\anaconda3\\envs\\tf-gpu\\lib\\site-packages\\sklearn\\utils\\validation.py:1141: DataConversionWarning: A column-vector y was passed when a 1d array was expected. Please change the shape of y to (n_samples, ), for example using ravel().\n",
      "  y = column_or_1d(y, warn=True)\n",
      "C:\\Users\\rikin\\anaconda3\\envs\\tf-gpu\\lib\\site-packages\\sklearn\\utils\\validation.py:1141: DataConversionWarning: A column-vector y was passed when a 1d array was expected. Please change the shape of y to (n_samples, ), for example using ravel().\n",
      "  y = column_or_1d(y, warn=True)\n",
      "C:\\Users\\rikin\\anaconda3\\envs\\tf-gpu\\lib\\site-packages\\sklearn\\utils\\validation.py:1141: DataConversionWarning: A column-vector y was passed when a 1d array was expected. Please change the shape of y to (n_samples, ), for example using ravel().\n",
      "  y = column_or_1d(y, warn=True)\n",
      "C:\\Users\\rikin\\anaconda3\\envs\\tf-gpu\\lib\\site-packages\\sklearn\\utils\\validation.py:1141: DataConversionWarning: A column-vector y was passed when a 1d array was expected. Please change the shape of y to (n_samples, ), for example using ravel().\n",
      "  y = column_or_1d(y, warn=True)\n",
      "C:\\Users\\rikin\\anaconda3\\envs\\tf-gpu\\lib\\site-packages\\sklearn\\utils\\validation.py:1141: DataConversionWarning: A column-vector y was passed when a 1d array was expected. Please change the shape of y to (n_samples, ), for example using ravel().\n",
      "  y = column_or_1d(y, warn=True)\n",
      "C:\\Users\\rikin\\anaconda3\\envs\\tf-gpu\\lib\\site-packages\\sklearn\\utils\\validation.py:1141: DataConversionWarning: A column-vector y was passed when a 1d array was expected. Please change the shape of y to (n_samples, ), for example using ravel().\n",
      "  y = column_or_1d(y, warn=True)\n",
      "C:\\Users\\rikin\\anaconda3\\envs\\tf-gpu\\lib\\site-packages\\sklearn\\utils\\validation.py:1141: DataConversionWarning: A column-vector y was passed when a 1d array was expected. Please change the shape of y to (n_samples, ), for example using ravel().\n",
      "  y = column_or_1d(y, warn=True)\n"
     ]
    },
    {
     "name": "stdout",
     "output_type": "stream",
     "text": [
      "Average Accuracy: \t 0.8051\n",
      "Accuracy SD: \t\t 0.0026\n",
      "----------------------------------------------------------\n",
      "Test Result:\n",
      "-----------\n",
      "Classification Report: \n",
      "               precision    recall  f1-score   support\n",
      "\n",
      "           0       0.81      1.00      0.89       356\n",
      "           1       0.00      0.00      0.00        85\n",
      "\n",
      "    accuracy                           0.81       441\n",
      "   macro avg       0.40      0.50      0.45       441\n",
      "weighted avg       0.65      0.81      0.72       441\n",
      "\n",
      "\n",
      "Confusion Matrix: \n",
      " [[356   0]\n",
      " [ 85   0]]\n",
      "\n",
      "accuracy score: 0.8073\n",
      "\n",
      "-----------------------------------------------------------\n"
     ]
    },
    {
     "name": "stderr",
     "output_type": "stream",
     "text": [
      "C:\\Users\\rikin\\anaconda3\\envs\\tf-gpu\\lib\\site-packages\\sklearn\\utils\\validation.py:1141: DataConversionWarning: A column-vector y was passed when a 1d array was expected. Please change the shape of y to (n_samples, ), for example using ravel().\n",
      "  y = column_or_1d(y, warn=True)\n",
      "C:\\Users\\rikin\\anaconda3\\envs\\tf-gpu\\lib\\site-packages\\sklearn\\utils\\validation.py:1141: DataConversionWarning: A column-vector y was passed when a 1d array was expected. Please change the shape of y to (n_samples, ), for example using ravel().\n",
      "  y = column_or_1d(y, warn=True)\n",
      "C:\\Users\\rikin\\anaconda3\\envs\\tf-gpu\\lib\\site-packages\\sklearn\\metrics\\_classification.py:1344: UndefinedMetricWarning: Precision and F-score are ill-defined and being set to 0.0 in labels with no predicted samples. Use `zero_division` parameter to control this behavior.\n",
      "  _warn_prf(average, modifier, msg_start, len(result))\n",
      "C:\\Users\\rikin\\anaconda3\\envs\\tf-gpu\\lib\\site-packages\\sklearn\\metrics\\_classification.py:1344: UndefinedMetricWarning: Precision and F-score are ill-defined and being set to 0.0 in labels with no predicted samples. Use `zero_division` parameter to control this behavior.\n",
      "  _warn_prf(average, modifier, msg_start, len(result))\n",
      "C:\\Users\\rikin\\anaconda3\\envs\\tf-gpu\\lib\\site-packages\\sklearn\\metrics\\_classification.py:1344: UndefinedMetricWarning: Precision and F-score are ill-defined and being set to 0.0 in labels with no predicted samples. Use `zero_division` parameter to control this behavior.\n",
      "  _warn_prf(average, modifier, msg_start, len(result))\n"
     ]
    }
   ],
   "source": [
    "print_score(svc_model2, X_train, y_train,\n",
    "            X_test, y_test,\n",
    "            train=True)\n",
    "  \n",
    "print_score(svc_model2, X_train, y_train,\n",
    "            X_test, y_test,\n",
    "            train=False)"
   ]
  },
  {
   "cell_type": "code",
   "execution_count": 43,
   "id": "92a5b986",
   "metadata": {},
   "outputs": [
    {
     "data": {
      "text/plain": [
       "<AxesSubplot: >"
      ]
     },
     "execution_count": 43,
     "metadata": {},
     "output_type": "execute_result"
    },
    {
     "data": {
      "image/png": "[encoded data removed]",
      "text/plain": [
       "<Figure size 640x480 with 2 Axes>"
      ]
     },
     "metadata": {},
     "output_type": "display_data"
    }
   ],
   "source": [
    "import seaborn as sns\n",
    "\n",
    "cm = confusion_matrix(y_test, y_pred)\n",
    "sns.heatmap(cm, annot=True)"
   ]
  },
  {
   "cell_type": "markdown",
   "id": "56f2707f",
   "metadata": {},
   "source": [
    "# Decision Tree"
   ]
  },
  {
   "cell_type": "code",
   "execution_count": 44,
   "id": "09533e9d",
   "metadata": {},
   "outputs": [
    {
     "name": "stdout",
     "output_type": "stream",
     "text": [
      "0.782312925170068\n"
     ]
    }
   ],
   "source": [
    "from sklearn.tree import DecisionTreeClassifier\n",
    "\n",
    "criteria = ['gini', 'entropy']\n",
    "scores = {}\n",
    " \n",
    "for c in criteria:\n",
    "    dt = DecisionTreeClassifier(criterion = c)\n",
    "    dt.fit(X_train, y_train)\n",
    "    test_score = dt.score(X_test, y_test)\n",
    "    scores = test_score\n",
    " \n",
    "print(scores)"
   ]
  },
  {
   "cell_type": "code",
   "execution_count": 45,
   "id": "921a522a",
   "metadata": {},
   "outputs": [
    {
     "name": "stdout",
     "output_type": "stream",
     "text": [
      "0.780045351473923\n"
     ]
    }
   ],
   "source": [
    "#Fitting Decision Tree classifier to the training set  \n",
    "\n",
    "from sklearn.tree import DecisionTreeClassifier  \n",
    "classifier= DecisionTreeClassifier(criterion='entropy', random_state=0)  \n",
    "classifier.fit(X_train, y_train)  \n",
    "\n",
    "#Predicting the test set result  \n",
    "y_pred= classifier.predict(X_test)  \n",
    "\n",
    "print(classifier.score(X_test, y_test)) "
   ]
  },
  {
   "cell_type": "code",
   "execution_count": 46,
   "id": "02222d61",
   "metadata": {},
   "outputs": [
    {
     "name": "stdout",
     "output_type": "stream",
     "text": [
      "ACCURACY OF THE MODEL:  0.780045351473923\n"
     ]
    }
   ],
   "source": [
    "# using metrics module for accuracy calculation\n",
    "print(\"ACCURACY OF THE MODEL: \", metrics.accuracy_score(y_test, y_pred))"
   ]
  },
  {
   "cell_type": "code",
   "execution_count": 47,
   "id": "73778c67",
   "metadata": {},
   "outputs": [],
   "source": [
    "#Creating the Confusion matrix  \n",
    "from sklearn.metrics import confusion_matrix  \n",
    "cm= confusion_matrix(y_test, y_pred)"
   ]
  },
  {
   "cell_type": "code",
   "execution_count": 48,
   "id": "a9d2fc94",
   "metadata": {},
   "outputs": [
    {
     "name": "stdout",
     "output_type": "stream",
     "text": [
      "[[308  48]\n",
      " [ 49  36]]\n"
     ]
    }
   ],
   "source": [
    "print(cm)"
   ]
  },
  {
   "cell_type": "code",
   "execution_count": 49,
   "id": "f6c7417d",
   "metadata": {},
   "outputs": [
    {
     "name": "stdout",
     "output_type": "stream",
     "text": [
      "Train Result:\n",
      "------------\n",
      "Classification Report: \n",
      "               precision    recall  f1-score   support\n",
      "\n",
      "           0       1.00      1.00      1.00      1417\n",
      "           1       1.00      1.00      1.00       343\n",
      "\n",
      "    accuracy                           1.00      1760\n",
      "   macro avg       1.00      1.00      1.00      1760\n",
      "weighted avg       1.00      1.00      1.00      1760\n",
      "\n",
      "\n",
      "Confusion Matrix: \n",
      " [[1417    0]\n",
      " [   0  343]]\n",
      "\n",
      "Average Accuracy: \t 0.7625\n",
      "Accuracy SD: \t\t 0.0185\n",
      "----------------------------------------------------------\n",
      "Test Result:\n",
      "-----------\n",
      "Classification Report: \n",
      "               precision    recall  f1-score   support\n",
      "\n",
      "           0       0.86      0.87      0.86       356\n",
      "           1       0.43      0.42      0.43        85\n",
      "\n",
      "    accuracy                           0.78       441\n",
      "   macro avg       0.65      0.64      0.64       441\n",
      "weighted avg       0.78      0.78      0.78       441\n",
      "\n",
      "\n",
      "Confusion Matrix: \n",
      " [[308  48]\n",
      " [ 49  36]]\n",
      "\n",
      "accuracy score: 0.7800\n",
      "\n",
      "-----------------------------------------------------------\n"
     ]
    }
   ],
   "source": [
    "print_score(classifier, X_train, y_train,\n",
    "            X_test, y_test,\n",
    "            train=True)\n",
    "  \n",
    "print_score(classifier, X_train, y_train,\n",
    "            X_test, y_test,\n",
    "            train=False)"
   ]
  },
  {
   "cell_type": "code",
   "execution_count": 50,
   "id": "fae92b92",
   "metadata": {},
   "outputs": [
    {
     "data": {
      "text/plain": [
       "<AxesSubplot: >"
      ]
     },
     "execution_count": 50,
     "metadata": {},
     "output_type": "execute_result"
    },
    {
     "data": {
      "image/png": "[encoded data removed]",
      "text/plain": [
       "<Figure size 640x480 with 2 Axes>"
      ]
     },
     "metadata": {},
     "output_type": "display_data"
    }
   ],
   "source": [
    "import seaborn as sns\n",
    "\n",
    "cm = confusion_matrix(y_test, y_pred)\n",
    "sns.heatmap(cm, annot=True)"
   ]
  },
  {
   "cell_type": "markdown",
   "id": "ef2b43a6",
   "metadata": {},
   "source": [
    "# Random Forest"
   ]
  },
  {
   "cell_type": "code",
   "execution_count": 51,
   "id": "a6a564dd",
   "metadata": {},
   "outputs": [
    {
     "name": "stderr",
     "output_type": "stream",
     "text": [
      "C:\\Users\\rikin\\AppData\\Local\\Temp\\ipykernel_12732\\1919382648.py:8: DataConversionWarning: A column-vector y was passed when a 1d array was expected. Please change the shape of y to (n_samples,), for example using ravel().\n",
      "  rfc.fit(X_train, y_train)\n"
     ]
    },
    {
     "name": "stdout",
     "output_type": "stream",
     "text": [
      "\n",
      "ACCURACY OF THE MODEL:  0.8276643990929705\n"
     ]
    }
   ],
   "source": [
    "from sklearn.ensemble import RandomForestClassifier\n",
    "\n",
    "# creating a RF classifier\n",
    "rfc = RandomForestClassifier(n_estimators = 100)  \n",
    "  \n",
    "# Training the model on the training dataset\n",
    "# fit function is used to train the model using the training sets as parameters\n",
    "rfc.fit(X_train, y_train)\n",
    "  \n",
    "# performing predictions on the test dataset\n",
    "y_pred = rfc.predict(X_test)\n",
    "  \n",
    "# metrics are used to find accuracy or error\n",
    "from sklearn import metrics  \n",
    "print()\n",
    "  \n",
    "# using metrics module for accuracy calculation\n",
    "print(\"ACCURACY OF THE MODEL: \", metrics.accuracy_score(y_test, y_pred))"
   ]
  },
  {
   "cell_type": "code",
   "execution_count": 52,
   "id": "b4d22935",
   "metadata": {},
   "outputs": [
    {
     "data": {
      "text/html": [
       "<div>\n",
       "<style scoped>\n",
       "    .dataframe tbody tr th:only-of-type {\n",
       "        vertical-align: middle;\n",
       "    }\n",
       "\n",
       "    .dataframe tbody tr th {\n",
       "        vertical-align: top;\n",
       "    }\n",
       "\n",
       "    .dataframe thead th {\n",
       "        text-align: right;\n",
       "    }\n",
       "</style>\n",
       "<table border=\"1\" class=\"dataframe\">\n",
       "  <thead>\n",
       "    <tr style=\"text-align: right;\">\n",
       "      <th></th>\n",
       "      <th>schedtime</th>\n",
       "      <th>carrier</th>\n",
       "      <th>dest</th>\n",
       "      <th>flightnumber</th>\n",
       "      <th>origin</th>\n",
       "      <th>weather</th>\n",
       "      <th>dayweek</th>\n",
       "      <th>daymonth</th>\n",
       "    </tr>\n",
       "  </thead>\n",
       "  <tbody>\n",
       "    <tr>\n",
       "      <th>1625</th>\n",
       "      <td>1530</td>\n",
       "      <td>2</td>\n",
       "      <td>1</td>\n",
       "      <td>1758</td>\n",
       "      <td>1</td>\n",
       "      <td>0</td>\n",
       "      <td>5</td>\n",
       "      <td>23</td>\n",
       "    </tr>\n",
       "    <tr>\n",
       "      <th>2181</th>\n",
       "      <td>1500</td>\n",
       "      <td>5</td>\n",
       "      <td>1</td>\n",
       "      <td>2176</td>\n",
       "      <td>1</td>\n",
       "      <td>0</td>\n",
       "      <td>6</td>\n",
       "      <td>31</td>\n",
       "    </tr>\n",
       "    <tr>\n",
       "      <th>1523</th>\n",
       "      <td>1040</td>\n",
       "      <td>1</td>\n",
       "      <td>1</td>\n",
       "      <td>7792</td>\n",
       "      <td>2</td>\n",
       "      <td>0</td>\n",
       "      <td>4</td>\n",
       "      <td>22</td>\n",
       "    </tr>\n",
       "    <tr>\n",
       "      <th>362</th>\n",
       "      <td>2000</td>\n",
       "      <td>5</td>\n",
       "      <td>1</td>\n",
       "      <td>2186</td>\n",
       "      <td>1</td>\n",
       "      <td>0</td>\n",
       "      <td>2</td>\n",
       "      <td>6</td>\n",
       "    </tr>\n",
       "    <tr>\n",
       "      <th>1230</th>\n",
       "      <td>2030</td>\n",
       "      <td>2</td>\n",
       "      <td>1</td>\n",
       "      <td>1768</td>\n",
       "      <td>1</td>\n",
       "      <td>0</td>\n",
       "      <td>7</td>\n",
       "      <td>18</td>\n",
       "    </tr>\n",
       "    <tr>\n",
       "      <th>...</th>\n",
       "      <td>...</td>\n",
       "      <td>...</td>\n",
       "      <td>...</td>\n",
       "      <td>...</td>\n",
       "      <td>...</td>\n",
       "      <td>...</td>\n",
       "      <td>...</td>\n",
       "      <td>...</td>\n",
       "    </tr>\n",
       "    <tr>\n",
       "      <th>1987</th>\n",
       "      <td>1245</td>\n",
       "      <td>1</td>\n",
       "      <td>1</td>\n",
       "      <td>7208</td>\n",
       "      <td>2</td>\n",
       "      <td>0</td>\n",
       "      <td>4</td>\n",
       "      <td>29</td>\n",
       "    </tr>\n",
       "    <tr>\n",
       "      <th>1283</th>\n",
       "      <td>1030</td>\n",
       "      <td>2</td>\n",
       "      <td>1</td>\n",
       "      <td>1748</td>\n",
       "      <td>1</td>\n",
       "      <td>0</td>\n",
       "      <td>1</td>\n",
       "      <td>19</td>\n",
       "    </tr>\n",
       "    <tr>\n",
       "      <th>1414</th>\n",
       "      <td>840</td>\n",
       "      <td>1</td>\n",
       "      <td>2</td>\n",
       "      <td>7299</td>\n",
       "      <td>2</td>\n",
       "      <td>0</td>\n",
       "      <td>2</td>\n",
       "      <td>20</td>\n",
       "    </tr>\n",
       "    <tr>\n",
       "      <th>1691</th>\n",
       "      <td>1715</td>\n",
       "      <td>1</td>\n",
       "      <td>0</td>\n",
       "      <td>7812</td>\n",
       "      <td>2</td>\n",
       "      <td>0</td>\n",
       "      <td>6</td>\n",
       "      <td>24</td>\n",
       "    </tr>\n",
       "    <tr>\n",
       "      <th>1867</th>\n",
       "      <td>1245</td>\n",
       "      <td>1</td>\n",
       "      <td>1</td>\n",
       "      <td>7208</td>\n",
       "      <td>2</td>\n",
       "      <td>1</td>\n",
       "      <td>2</td>\n",
       "      <td>27</td>\n",
       "    </tr>\n",
       "  </tbody>\n",
       "</table>\n",
       "<p>1760 rows × 8 columns</p>\n",
       "</div>"
      ],
      "text/plain": [
       "      schedtime  carrier  dest  flightnumber  origin  weather  dayweek  \\\n",
       "1625       1530        2     1          1758       1        0        5   \n",
       "2181       1500        5     1          2176       1        0        6   \n",
       "1523       1040        1     1          7792       2        0        4   \n",
       "362        2000        5     1          2186       1        0        2   \n",
       "1230       2030        2     1          1768       1        0        7   \n",
       "...         ...      ...   ...           ...     ...      ...      ...   \n",
       "1987       1245        1     1          7208       2        0        4   \n",
       "1283       1030        2     1          1748       1        0        1   \n",
       "1414        840        1     2          7299       2        0        2   \n",
       "1691       1715        1     0          7812       2        0        6   \n",
       "1867       1245        1     1          7208       2        1        2   \n",
       "\n",
       "      daymonth  \n",
       "1625        23  \n",
       "2181        31  \n",
       "1523        22  \n",
       "362          6  \n",
       "1230        18  \n",
       "...        ...  \n",
       "1987        29  \n",
       "1283        19  \n",
       "1414        20  \n",
       "1691        24  \n",
       "1867        27  \n",
       "\n",
       "[1760 rows x 8 columns]"
      ]
     },
     "execution_count": 52,
     "metadata": {},
     "output_type": "execute_result"
    }
   ],
   "source": [
    "X_train"
   ]
  },
  {
   "cell_type": "code",
   "execution_count": 53,
   "id": "c05eb85d",
   "metadata": {},
   "outputs": [
    {
     "name": "stdout",
     "output_type": "stream",
     "text": [
      "Confusion Matrix:\n",
      " [[343  63]\n",
      " [ 13  22]]\n"
     ]
    }
   ],
   "source": [
    "print(\"Confusion Matrix:\\n\",confusion_matrix(y_pred,y_test))"
   ]
  },
  {
   "cell_type": "code",
   "execution_count": 54,
   "id": "4a8d87ab",
   "metadata": {},
   "outputs": [
    {
     "name": "stdout",
     "output_type": "stream",
     "text": [
      "Train Result:\n",
      "------------\n",
      "Classification Report: \n",
      "               precision    recall  f1-score   support\n",
      "\n",
      "           0       1.00      1.00      1.00      1417\n",
      "           1       1.00      1.00      1.00       343\n",
      "\n",
      "    accuracy                           1.00      1760\n",
      "   macro avg       1.00      1.00      1.00      1760\n",
      "weighted avg       1.00      1.00      1.00      1760\n",
      "\n",
      "\n",
      "Confusion Matrix: \n",
      " [[1417    0]\n",
      " [   1  342]]\n",
      "\n"
     ]
    },
    {
     "name": "stderr",
     "output_type": "stream",
     "text": [
      "C:\\Users\\rikin\\anaconda3\\envs\\tf-gpu\\lib\\site-packages\\sklearn\\model_selection\\_validation.py:686: DataConversionWarning: A column-vector y was passed when a 1d array was expected. Please change the shape of y to (n_samples,), for example using ravel().\n",
      "  estimator.fit(X_train, y_train, **fit_params)\n",
      "C:\\Users\\rikin\\anaconda3\\envs\\tf-gpu\\lib\\site-packages\\sklearn\\model_selection\\_validation.py:686: DataConversionWarning: A column-vector y was passed when a 1d array was expected. Please change the shape of y to (n_samples,), for example using ravel().\n",
      "  estimator.fit(X_train, y_train, **fit_params)\n",
      "C:\\Users\\rikin\\anaconda3\\envs\\tf-gpu\\lib\\site-packages\\sklearn\\model_selection\\_validation.py:686: DataConversionWarning: A column-vector y was passed when a 1d array was expected. Please change the shape of y to (n_samples,), for example using ravel().\n",
      "  estimator.fit(X_train, y_train, **fit_params)\n",
      "C:\\Users\\rikin\\anaconda3\\envs\\tf-gpu\\lib\\site-packages\\sklearn\\model_selection\\_validation.py:686: DataConversionWarning: A column-vector y was passed when a 1d array was expected. Please change the shape of y to (n_samples,), for example using ravel().\n",
      "  estimator.fit(X_train, y_train, **fit_params)\n",
      "C:\\Users\\rikin\\anaconda3\\envs\\tf-gpu\\lib\\site-packages\\sklearn\\model_selection\\_validation.py:686: DataConversionWarning: A column-vector y was passed when a 1d array was expected. Please change the shape of y to (n_samples,), for example using ravel().\n",
      "  estimator.fit(X_train, y_train, **fit_params)\n",
      "C:\\Users\\rikin\\anaconda3\\envs\\tf-gpu\\lib\\site-packages\\sklearn\\model_selection\\_validation.py:686: DataConversionWarning: A column-vector y was passed when a 1d array was expected. Please change the shape of y to (n_samples,), for example using ravel().\n",
      "  estimator.fit(X_train, y_train, **fit_params)\n",
      "C:\\Users\\rikin\\anaconda3\\envs\\tf-gpu\\lib\\site-packages\\sklearn\\model_selection\\_validation.py:686: DataConversionWarning: A column-vector y was passed when a 1d array was expected. Please change the shape of y to (n_samples,), for example using ravel().\n",
      "  estimator.fit(X_train, y_train, **fit_params)\n",
      "C:\\Users\\rikin\\anaconda3\\envs\\tf-gpu\\lib\\site-packages\\sklearn\\model_selection\\_validation.py:686: DataConversionWarning: A column-vector y was passed when a 1d array was expected. Please change the shape of y to (n_samples,), for example using ravel().\n",
      "  estimator.fit(X_train, y_train, **fit_params)\n",
      "C:\\Users\\rikin\\anaconda3\\envs\\tf-gpu\\lib\\site-packages\\sklearn\\model_selection\\_validation.py:686: DataConversionWarning: A column-vector y was passed when a 1d array was expected. Please change the shape of y to (n_samples,), for example using ravel().\n",
      "  estimator.fit(X_train, y_train, **fit_params)\n",
      "C:\\Users\\rikin\\anaconda3\\envs\\tf-gpu\\lib\\site-packages\\sklearn\\model_selection\\_validation.py:686: DataConversionWarning: A column-vector y was passed when a 1d array was expected. Please change the shape of y to (n_samples,), for example using ravel().\n",
      "  estimator.fit(X_train, y_train, **fit_params)\n"
     ]
    },
    {
     "name": "stdout",
     "output_type": "stream",
     "text": [
      "Average Accuracy: \t 0.8131\n",
      "Accuracy SD: \t\t 0.0191\n",
      "----------------------------------------------------------\n",
      "Test Result:\n",
      "-----------\n",
      "Classification Report: \n",
      "               precision    recall  f1-score   support\n",
      "\n",
      "           0       0.84      0.96      0.90       356\n",
      "           1       0.63      0.26      0.37        85\n",
      "\n",
      "    accuracy                           0.83       441\n",
      "   macro avg       0.74      0.61      0.63       441\n",
      "weighted avg       0.80      0.83      0.80       441\n",
      "\n",
      "\n",
      "Confusion Matrix: \n",
      " [[343  13]\n",
      " [ 63  22]]\n",
      "\n",
      "accuracy score: 0.8277\n",
      "\n",
      "-----------------------------------------------------------\n"
     ]
    }
   ],
   "source": [
    "print_score(rfc, X_train, y_train,\n",
    "            X_test, y_test,\n",
    "            train=True)\n",
    "  \n",
    "print_score(rfc, X_train, y_train,\n",
    "            X_test, y_test,\n",
    "            train=False)"
   ]
  },
  {
   "cell_type": "code",
   "execution_count": 55,
   "id": "e4dc36b0",
   "metadata": {},
   "outputs": [
    {
     "data": {
      "text/plain": [
       "<AxesSubplot: >"
      ]
     },
     "execution_count": 55,
     "metadata": {},
     "output_type": "execute_result"
    },
    {
     "data": {
      "image/png": "[encoded data removed]",
      "text/plain": [
       "<Figure size 640x480 with 2 Axes>"
      ]
     },
     "metadata": {},
     "output_type": "display_data"
    }
   ],
   "source": [
    "import seaborn as sns\n",
    "\n",
    "cm = confusion_matrix(y_test, y_pred)\n",
    "sns.heatmap(cm, annot=True)"
   ]
  },
  {
   "cell_type": "markdown",
   "id": "2a38ae1b",
   "metadata": {},
   "source": [
    "# SAVE MODEL"
   ]
  },
  {
   "cell_type": "code",
   "execution_count": 56,
   "id": "843e2ecb",
   "metadata": {},
   "outputs": [
    {
     "data": {
      "text/plain": [
       "['rf_model.sav']"
      ]
     },
     "execution_count": 56,
     "metadata": {},
     "output_type": "execute_result"
    }
   ],
   "source": [
    "import joblib\n",
    "\n",
    "# save the model to disk\n",
    "joblib.dump(rfc, 'rf_model.sav')"
   ]
  },
  {
   "cell_type": "code",
   "execution_count": 57,
   "id": "430ef7f3",
   "metadata": {},
   "outputs": [],
   "source": [
    "def predict_delay(schedtime, carrier, dest, flightnumber, origin, weather, dayweek, daymonth) :\n",
    "    prediction = rfc.predict(pd.DataFrame([[schedtime, carrier, dest, flightnumber, origin, weather, dayweek, daymonth]], columns=['schedtime', 'carrier', 'dest', 'flightnumber', 'origin', 'weather', 'dayweek', 'daymonth']))\n",
    "    return prediction"
   ]
  },
  {
   "cell_type": "code",
   "execution_count": 58,
   "id": "99efab60",
   "metadata": {},
   "outputs": [],
   "source": [
    "y_pred = predict_delay(2311, 2, 1, 1123, 1, 0, 6, 12)"
   ]
  },
  {
   "cell_type": "code",
   "execution_count": null,
   "id": "2d72a9b9",
   "metadata": {},
   "outputs": [],
   "source": [
    "print(y_pred[0])"
   ]
  },
  {
   "cell_type": "code",
   "execution_count": null,
   "id": "d22442b9",
   "metadata": {},
   "outputs": [],
   "source": []
  }
 ],
 "metadata": {
  "kernelspec": {
   "display_name": "Python 3 (ipykernel)",
   "language": "python",
   "name": "python3"
  },
  "language_info": {
   "codemirror_mode": {
    "name": "ipython",
    "version": 3
   },
   "file_extension": ".py",
   "mimetype": "text/x-python",
   "name": "python",
   "nbconvert_exporter": "python",
   "pygments_lexer": "ipython3",
   "version": "3.9.15"
  }
 },
 "nbformat": 4,
 "nbformat_minor": 5
}
