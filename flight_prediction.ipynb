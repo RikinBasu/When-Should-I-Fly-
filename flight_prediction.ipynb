{
 "cells": [
  {
   "cell_type": "code",
   "execution_count": 2,
   "id": "addd1ed1",
   "metadata": {},
   "outputs": [],
   "source": [
    "import joblib\n",
    "clf = joblib.load('rf_model.sav')\n"
   ]
  },
  {
   "cell_type": "code",
   "execution_count": 3,
   "id": "87206697",
   "metadata": {},
   "outputs": [],
   "source": [
    "def predict_delay(schedtime, carrier, dest, flightnumber, origin, weather, dayweek, daymonth) :\n",
    "    prediction = model.predict(pd.DataFrame([[carat, cut, color, clarity, depth, table, x, y, z]], columns=['schedtime', 'carrier', 'dest', 'flightnumber', 'origin', 'weather', 'dayweek', 'daymonth']))\n",
    "    return prediction\n",
    "    "
   ]
  },
  {
   "cell_type": "code",
   "execution_count": null,
   "id": "b721be7a",
   "metadata": {},
   "outputs": [],
   "source": []
  }
 ],
 "metadata": {
  "kernelspec": {
   "display_name": "Python 3 (ipykernel)",
   "language": "python",
   "name": "python3"
  },
  "language_info": {
   "codemirror_mode": {
    "name": "ipython",
    "version": 3
   },
   "file_extension": ".py",
   "mimetype": "text/x-python",
   "name": "python",
   "nbconvert_exporter": "python",
   "pygments_lexer": "ipython3",
   "version": "3.9.15"
  }
 },
 "nbformat": 4,
 "nbformat_minor": 5
}
