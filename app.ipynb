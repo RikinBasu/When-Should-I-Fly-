{
 "cells": [
  {
   "cell_type": "code",
   "execution_count": 1,
   "id": "7cc44430",
   "metadata": {},
   "outputs": [],
   "source": [
    "import streamlit as st\n",
    "import pandas as pd\n",
    "import numpy as np\n"
   ]
  },
  {
   "cell_type": "code",
   "execution_count": 2,
   "id": "c5927c9c",
   "metadata": {},
   "outputs": [],
   "source": [
    "import joblib\n",
    "model = joblib.load('rf_model.sav')"
   ]
  },
  {
   "cell_type": "code",
   "execution_count": 3,
   "id": "cb1ad599",
   "metadata": {},
   "outputs": [],
   "source": [
    "def predict_delay(schedtime, carrier, dest, flightnumber, origin, weather, dayweek, daymonth) :\n",
    "    \n",
    "    if carrier == 'OH':\n",
    "        carrier = 0\n",
    "    elif carrier == 'DH':\n",
    "        carrier= 1\n",
    "    elif carrier == 'DL':\n",
    "        carrier = 2\n",
    "    elif carrier == 'MQ':\n",
    "        carrier = 3\n",
    "    elif carrier == 'UA':\n",
    "        carrier = 4\n",
    "    elif carrier == 'US':\n",
    "        carrier = 5\n",
    "    elif carrier == 'RU':\n",
    "        carrier = 6\n",
    "    elif carrier == 'CO':\n",
    "        carrier = 7    \n",
    "    \n",
    "        \n",
    "    if dayweek == 'Monday':\n",
    "        dayweek = 1\n",
    "    elif dayweek == 'Tuesday':\n",
    "        dayweek = 2\n",
    "    elif carrier == 'Wednesday':\n",
    "        dayweek = 3\n",
    "    elif dayweek == 'Thursday':\n",
    "        dayweek = 4\n",
    "    elif dayweek == 'Friday':\n",
    "        dayweek = 5\n",
    "    elif dayweek == 'Saturday':\n",
    "        dayweek = 6\n",
    "    elif dayweek == 'Sunday':\n",
    "        dayweek = 7  \n",
    "\n",
    "    if dest == 'JFK':\n",
    "        dest = 0\n",
    "    elif dest == 'LGA':\n",
    "        dest = 1\n",
    "    elif dest == 'EWR':\n",
    "        dest = 2\n",
    "   \n",
    "    if weather == 'Good':\n",
    "        weather = 0\n",
    "    elif weather == 'Bad':\n",
    "        weather = 1 \n",
    "    \n",
    "    if origin == 'BWI':\n",
    "        origin = 0\n",
    "    elif origin == 'DCA':\n",
    "        origin = 1\n",
    "    elif origin == 'IAD':\n",
    "        origin = 2\n",
    "    \n",
    "    prediction = model.predict(pd.DataFrame([[schedtime, carrier, dest, flightnumber, origin, weather, dayweek, daymonth]], columns=['schedtime', 'carrier', 'dest', 'flightnumber', 'origin', 'weather', 'dayweek', 'daymonth']))\n",
    "    return prediction\n",
    "    "
   ]
  },
  {
   "cell_type": "code",
   "execution_count": 4,
   "id": "b77b0bf7",
   "metadata": {},
   "outputs": [
    {
     "name": "stderr",
     "output_type": "stream",
     "text": [
      "2023-02-21 05:36:47.759 \n",
      "  \u001b[33m\u001b[1mWarning:\u001b[0m to view this Streamlit app on a browser, run it with the following\n",
      "  command:\n",
      "\n",
      "    streamlit run C:\\Users\\rikin\\anaconda3\\envs\\tf-gpu\\lib\\site-packages\\ipykernel_launcher.py [ARGUMENTS]\n"
     ]
    },
    {
     "data": {
      "text/plain": [
       "DeltaGenerator(_root_container=0, _provided_cursor=None, _parent=None, _block_type=None, _form_data=None)"
      ]
     },
     "execution_count": 4,
     "metadata": {},
     "output_type": "execute_result"
    }
   ],
   "source": [
    "st.title('When Should I Fly?')\n",
    "\n",
    "from PIL import Image\n",
    "\n",
    "\n",
    "\n",
    "#opening the image\n",
    "\n",
    "image = Image.open('C:/Users/rikin/Pred analytics/Breeze.png')\n",
    "\n",
    "\n",
    "\n",
    "#displaying the image on streamlit app\n",
    "\n",
    "st.image(image)\n",
    "\n",
    "st.markdown('Recommendation system for users who wish to fly domestically to check for flight delays')"
   ]
  },
  {
   "cell_type": "code",
   "execution_count": 5,
   "id": "ae1ea77b",
   "metadata": {},
   "outputs": [
    {
     "data": {
      "text/plain": [
       "DeltaGenerator(_root_container=0, _provided_cursor=None, _parent=None, _block_type=None, _form_data=None)"
      ]
     },
     "execution_count": 5,
     "metadata": {},
     "output_type": "execute_result"
    }
   ],
   "source": [
    "st.header('Enter the flight information:')"
   ]
  },
  {
   "cell_type": "code",
   "execution_count": 6,
   "id": "d0741d66",
   "metadata": {},
   "outputs": [],
   "source": [
    "schedtime = st.number_input('Scheduled Departure:', min_value=0, max_value=2359, value=2322)\n",
    "\n",
    "carrier = st.selectbox('Carrier Code:', ['OH', 'DH', 'DL', 'MQ', 'UA', 'US', 'RU', 'CO'])\n",
    "\n",
    "dest = st.selectbox('Destination Code :', ['JFK', 'LGA', 'EWR'])\n",
    "\n",
    "flightnumber = st.number_input('Flight number :', min_value=0, max_value=9999, value=1223)\n",
    "\n",
    "origin = st.selectbox('Origin Code :', ['BWI', 'DCA', 'IAD'])\n",
    "\n",
    "weather = st.selectbox('Forecasted weather :', ['Good', 'Bad'])\n",
    "\n",
    "dayweek = st.selectbox('Day of the week :', ['Monday', 'Tuesday', 'Wednesday', 'Thursday', 'Friday', 'Saturday', 'Sunday'])\n",
    "\n",
    "daymonth = st.number_input('Day of the month :', min_value=0, max_value=31, value=12)\n"
   ]
  },
  {
   "cell_type": "code",
   "execution_count": 7,
   "id": "6266023f",
   "metadata": {},
   "outputs": [],
   "source": [
    "if st.button('Predict whether flight might be delayed'):\n",
    "    delay = predict_delay(schedtime, carrier, dest, flightnumber, origin, weather, dayweek, daymonth)\n",
    "     \n",
    "    \n",
    "    if delay[0] == 0 :\n",
    "        st.success('Your flight is not likely to get delayed')\n",
    "        \n",
    "    else :\n",
    "        st.success('Your flight is likely to get delayed')\n",
    "        "
   ]
  },
  {
   "cell_type": "code",
   "execution_count": null,
   "id": "4f241fd3",
   "metadata": {},
   "outputs": [],
   "source": []
  }
 ],
 "metadata": {
  "kernelspec": {
   "display_name": "Python 3 (ipykernel)",
   "language": "python",
   "name": "python3"
  },
  "language_info": {
   "codemirror_mode": {
    "name": "ipython",
    "version": 3
   },
   "file_extension": ".py",
   "mimetype": "text/x-python",
   "name": "python",
   "nbconvert_exporter": "python",
   "pygments_lexer": "ipython3",
   "version": "3.9.15"
  }
 },
 "nbformat": 4,
 "nbformat_minor": 5
}
